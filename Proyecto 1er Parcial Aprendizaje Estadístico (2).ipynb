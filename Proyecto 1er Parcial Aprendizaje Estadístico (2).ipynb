{
 "cells": [
  {
   "cell_type": "code",
   "execution_count": 161,
   "metadata": {},
   "outputs": [],
   "source": [
    "library(\"gvlma\")\n",
    "library(\"dplyr\")\n",
    "library(\"ggplot2\")\n",
    "library(\"tidyverse\")\n",
    "library(\"glmnet\")\n",
    "library(\"data.table\")\n",
    "library(\"repr\")\n",
    "library(\"viridis\")\n",
    "library(\"corrplot\")"
   ]
  },
  {
   "cell_type": "code",
   "execution_count": 162,
   "metadata": {},
   "outputs": [
    {
     "name": "stdout",
     "output_type": "stream",
     "text": [
      "'data.frame':\t108464 obs. of  15 variables:\n",
      " $ X          : int  1 2 3 4 5 6 7 8 9 10 ...\n",
      " $ Depth      : num  0 5 10 15 20 25 30 35 40 45 ...\n",
      " $ Temperature: num  29.1 29.1 29.1 29.1 29.1 28.9 28.7 28.6 28.5 28.4 ...\n",
      " $ Cast       : int  3678873 3678873 3678873 3678873 3678873 3678873 3678873 3678873 3678873 3678873 ...\n",
      " $ Cruise     : Factor w/ 180 levels \"99-0           \",..: 29 29 29 29 29 29 29 29 29 29 ...\n",
      " $ Latitude   : num  19.9 19.9 19.9 19.9 19.9 ...\n",
      " $ Longitude  : num  -86.8 -86.8 -86.8 -86.8 -86.8 ...\n",
      " $ Day        : int  15 15 15 15 15 15 15 15 15 15 ...\n",
      " $ Month      : int  9 9 9 9 9 9 9 9 9 9 ...\n",
      " $ Year       : int  1981 1981 1981 1981 1981 1981 1981 1981 1981 1981 ...\n",
      " $ Institute  : int  NA NA NA NA NA NA NA NA NA NA ...\n",
      " $ Instrument : int  NA NA NA NA NA NA NA NA NA NA ...\n",
      " $ Device     : Factor w/ 5 levels \"CTD\",\"MBT\",\"OSD\",..: 5 5 5 5 5 5 5 5 5 5 ...\n",
      " $ Sospechoso : int  NA NA NA NA NA NA NA NA NA NA ...\n",
      " $ Ts         : num  15.2 15.2 15.2 15.2 15.2 ...\n"
     ]
    }
   ],
   "source": [
    "df <- read.csv(\"datos_temprt.csv\")\n",
    "str(df)"
   ]
  },
  {
   "cell_type": "code",
   "execution_count": 230,
   "metadata": {},
   "outputs": [
    {
     "name": "stdout",
     "output_type": "stream",
     "text": [
      "Classes 'data.table' and 'data.frame':\t108464 obs. of  7 variables:\n",
      " $ Temperature: num  29.1 29.1 29.1 29.1 29.1 28.9 28.7 28.6 28.5 28.4 ...\n",
      " $ Ts         : num  15.2 15.2 15.2 15.2 15.2 ...\n",
      " $ Depth      : num  0 5 10 15 20 25 30 35 40 45 ...\n",
      " $ Latitude   : num  19.9 19.9 19.9 19.9 19.9 ...\n",
      " $ Longitude  : num  -86.8 -86.8 -86.8 -86.8 -86.8 ...\n",
      " $ Month      : int  9 9 9 9 9 9 9 9 9 9 ...\n",
      " $ Cast       : int  3678873 3678873 3678873 3678873 3678873 3678873 3678873 3678873 3678873 3678873 ...\n",
      " - attr(*, \".internal.selfref\")=<externalptr> \n"
     ]
    },
    {
     "data": {
      "text/plain": [
       "  Temperature          Ts             Depth           Latitude    \n",
       " Min.   :-2.24   Min.   : 9.176   Min.   :   0.0   Min.   :18.20  \n",
       " 1st Qu.: 9.24   1st Qu.:19.063   1st Qu.: 118.4   1st Qu.:21.01  \n",
       " Median :14.68   Median :20.375   Median : 290.3   Median :22.18  \n",
       " Mean   :15.79   Mean   :21.389   Mean   : 351.0   Mean   :21.88  \n",
       " 3rd Qu.:22.32   3rd Qu.:23.615   3rd Qu.: 508.0   3rd Qu.:23.07  \n",
       " Max.   :31.50   Max.   :30.162   Max.   :1990.8   Max.   :23.55  \n",
       "   Longitude          Month             Cast         \n",
       " Min.   :-87.55   Min.   : 1.000   Min.   : 2702452  \n",
       " 1st Qu.:-86.62   1st Qu.: 5.000   1st Qu.: 3078053  \n",
       " Median :-86.35   Median : 7.000   Median : 7332785  \n",
       " Mean   :-86.39   Mean   : 7.362   Mean   : 8233858  \n",
       " 3rd Qu.:-86.11   3rd Qu.:11.000   3rd Qu.:10302115  \n",
       " Max.   :-85.88   Max.   :12.000   Max.   :18900411  "
      ]
     },
     "metadata": {},
     "output_type": "display_data"
    }
   ],
   "source": [
    "dfT <- fread(\"datos_temprt.csv\", select = c(\"Temperature\", \"Ts\", \"Depth\", \"Latitude\", \"Longitude\", \"Month\",  \"Cast\"))\n",
    "str(dfT)\n",
    "summary(dfT)"
   ]
  },
  {
   "cell_type": "code",
   "execution_count": 307,
   "metadata": {},
   "outputs": [],
   "source": [
    "#Matriz de correlación  \n",
    "dfcorr <-cor(dfd)"
   ]
  },
  {
   "cell_type": "code",
   "execution_count": 308,
   "metadata": {},
   "outputs": [
    {
     "data": {
      "image/png": "[encoded data removed]",
      "text/plain": [
       "Plot with title \"\""
      ]
     },
     "metadata": {},
     "output_type": "display_data"
    },
    {
     "data": {
      "image/png": "[encoded data removed]",
      "text/plain": [
       "Plot with title \"\""
      ]
     },
     "metadata": {},
     "output_type": "display_data"
    }
   ],
   "source": [
    "#Grafica de correlación\n",
    "corrplot(dfcorr, method=\"circle\")\n",
    "corrplot(dfcorr, method=\"number\")"
   ]
  },
  {
   "cell_type": "code",
   "execution_count": 237,
   "metadata": {},
   "outputs": [
    {
     "data": {
      "text/plain": [
       "   Min. 1st Qu.  Median    Mean 3rd Qu.    Max. \n",
       "  -2.24    9.24   14.68   15.79   22.32   31.50 "
      ]
     },
     "metadata": {},
     "output_type": "display_data"
    }
   ],
   "source": [
    "summary(dfT$Temperature)"
   ]
  },
  {
   "cell_type": "code",
   "execution_count": 281,
   "metadata": {},
   "outputs": [
    {
     "data": {
      "text/html": [
       "1168"
      ],
      "text/latex": [
       "1168"
      ],
      "text/markdown": [
       "1168"
      ],
      "text/plain": [
       "[1] 1168"
      ]
     },
     "metadata": {},
     "output_type": "display_data"
    }
   ],
   "source": [
    "cast<- length(unique(df$Cast))\n",
    "\n",
    "cast"
   ]
  },
  {
   "cell_type": "code",
   "execution_count": 280,
   "metadata": {},
   "outputs": [
    {
     "data": {
      "image/png": "[encoded data removed]",
      "text/plain": [
       "plot without title"
      ]
     },
     "metadata": {},
     "output_type": "display_data"
    }
   ],
   "source": [
    "ggplot(data = dfT) +\n",
    "  geom_histogram(mapping = aes(x = Temperature), binwidth = 2) + theme_dark()"
   ]
  },
  {
   "cell_type": "code",
   "execution_count": 240,
   "metadata": {},
   "outputs": [
    {
     "data": {
      "image/png": "[encoded data removed]",
      "text/plain": [
       "plot without title"
      ]
     },
     "metadata": {},
     "output_type": "display_data"
    }
   ],
   "source": [
    "vp <- ggplot( dfT, aes(group = TRUE, x = \"\", y = Temperature)) + \n",
    "    geom_violin(trim = FALSE)+\n",
    "    geom_boxplot( width = 0.2, fill = \"grey\")+ theme_dark()\n",
    "vp"
   ]
  },
  {
   "cell_type": "code",
   "execution_count": null,
   "metadata": {},
   "outputs": [],
   "source": []
  },
  {
   "cell_type": "markdown",
   "metadata": {},
   "source": [
    "### Temperatura Superficial"
   ]
  },
  {
   "cell_type": "code",
   "execution_count": 306,
   "metadata": {},
   "outputs": [
    {
     "name": "stdout",
     "output_type": "stream",
     "text": [
      "Resumen estadístico de variable predictora"
     ]
    },
    {
     "data": {
      "text/plain": [
       "   Min. 1st Qu.  Median    Mean 3rd Qu.    Max. \n",
       "  9.176  19.035  20.315  21.199  23.043  30.162 "
      ]
     },
     "metadata": {},
     "output_type": "display_data"
    },
    {
     "name": "stdout",
     "output_type": "stream",
     "text": [
      "Correlación de variable predictora Ts con variable de respuesta"
     ]
    },
    {
     "data": {
      "text/html": [
       "-0.0904398082883131"
      ],
      "text/latex": [
       "-0.0904398082883131"
      ],
      "text/markdown": [
       "-0.0904398082883131"
      ],
      "text/plain": [
       "[1] -0.09043981"
      ]
     },
     "metadata": {},
     "output_type": "display_data"
    }
   ],
   "source": [
    "cat(\"Resumen estadístico de variable predictora\")\n",
    "summary(dfd$Ts)\n",
    "cat(\"Correlación de variable predictora Ts con variable de respuesta\")\n",
    "cor(dfd$Temperature, dfd$Ts)"
   ]
  },
  {
   "cell_type": "code",
   "execution_count": 166,
   "metadata": {},
   "outputs": [
    {
     "data": {
      "image/png": "[encoded data removed]",
      "text/plain": [
       "plot without title"
      ]
     },
     "metadata": {},
     "output_type": "display_data"
    }
   ],
   "source": [
    "options(repr.plot.width= 3, repr.plot.height= 3, repr.plot.res = 100)\n",
    "ggplot(data = dfT) +\n",
    "  geom_histogram(mapping = aes(x = Ts), binwidth = 1) + theme_dark()"
   ]
  },
  {
   "cell_type": "code",
   "execution_count": 265,
   "metadata": {},
   "outputs": [
    {
     "data": {
      "image/png": "[encoded data removed]",
      "text/plain": [
       "plot without title"
      ]
     },
     "metadata": {},
     "output_type": "display_data"
    }
   ],
   "source": [
    "vp <- ggplot( dfT, aes(group = TRUE, x = \"\", y = Ts)) + \n",
    "    geom_violin(trim = FALSE)+\n",
    "    geom_boxplot( width = 0.2, fill = \"grey\")+ theme_dark()\n",
    "vp"
   ]
  },
  {
   "cell_type": "code",
   "execution_count": 269,
   "metadata": {},
   "outputs": [
    {
     "name": "stderr",
     "output_type": "stream",
     "text": [
      "`geom_smooth()` using method = 'gam' and formula 'y ~ s(x, bs = \"cs\")'\n"
     ]
    },
    {
     "data": {
      "image/png": "[encoded data removed]",
      "text/plain": [
       "plot without title"
      ]
     },
     "metadata": {},
     "output_type": "display_data"
    }
   ],
   "source": [
    "ggplot(data = dfT, mapping = aes(Ts, Temperature)) + geom_point() + geom_smooth() + theme_dark()"
   ]
  },
  {
   "cell_type": "markdown",
   "metadata": {},
   "source": [
    "### Variable predictora Depth"
   ]
  },
  {
   "cell_type": "code",
   "execution_count": 303,
   "metadata": {},
   "outputs": [
    {
     "name": "stdout",
     "output_type": "stream",
     "text": [
      "Classes 'data.table' and 'data.frame':\t105405 obs. of  7 variables:\n",
      " $ Temperature: num  29.1 29.1 29.1 29.1 29.1 28.9 28.7 28.6 28.5 28.4 ...\n",
      " $ Ts         : num  15.2 15.2 15.2 15.2 15.2 ...\n",
      " $ Depth      : num  0 5 10 15 20 25 30 35 40 45 ...\n",
      " $ Latitude   : num  19.9 19.9 19.9 19.9 19.9 ...\n",
      " $ Longitude  : num  -86.8 -86.8 -86.8 -86.8 -86.8 ...\n",
      " $ Month      : int  9 9 9 9 9 9 9 9 9 9 ...\n",
      " $ Cast       : int  3678873 3678873 3678873 3678873 3678873 3678873 3678873 3678873 3678873 3678873 ...\n",
      " - attr(*, \".internal.selfref\")=<externalptr> \n"
     ]
    }
   ],
   "source": [
    "#hacemos una versión filtrada sin profundidades de más de 1000m\n",
    "dfm <- dfT\n",
    "dfd <- dfm[dfm$Depth <= 1000, ] \n",
    "str(dfd)"
   ]
  },
  {
   "cell_type": "code",
   "execution_count": 302,
   "metadata": {},
   "outputs": [
    {
     "name": "stdout",
     "output_type": "stream",
     "text": [
      "Resumen estadístico de variable predictora"
     ]
    },
    {
     "data": {
      "text/plain": [
       "   Min. 1st Qu.  Median    Mean 3rd Qu.    Max. \n",
       "    0.0   113.1   279.0   319.4   484.6  1000.0 "
      ]
     },
     "metadata": {},
     "output_type": "display_data"
    },
    {
     "name": "stdout",
     "output_type": "stream",
     "text": [
      "Correlación de variable predictora Depth con variable de respuesta"
     ]
    },
    {
     "data": {
      "text/html": [
       "-0.902764441625467"
      ],
      "text/latex": [
       "-0.902764441625467"
      ],
      "text/markdown": [
       "-0.902764441625467"
      ],
      "text/plain": [
       "[1] -0.9027644"
      ]
     },
     "metadata": {},
     "output_type": "display_data"
    }
   ],
   "source": [
    "cat(\"Resumen estadístico de variable predictora\")\n",
    "summary(dfd$Depth)\n",
    "cat(\"Correlación de variable predictora Depth con variable de respuesta\")\n",
    "cor(dfd$Depth, dfd$Temperature)"
   ]
  },
  {
   "cell_type": "code",
   "execution_count": null,
   "metadata": {},
   "outputs": [],
   "source": []
  },
  {
   "cell_type": "code",
   "execution_count": 304,
   "metadata": {},
   "outputs": [
    {
     "data": {
      "image/png": "[encoded data removed]",
      "text/plain": [
       "plot without title"
      ]
     },
     "metadata": {},
     "output_type": "display_data"
    }
   ],
   "source": [
    "options(repr.plot.width= 3, repr.plot.height= 3, repr.plot.res = 100)\n",
    "ggplot(data = dfd) + geom_histogram(mapping = aes(x = Depth), binwidth = 40) + theme_dark()"
   ]
  },
  {
   "cell_type": "code",
   "execution_count": 292,
   "metadata": {},
   "outputs": [
    {
     "data": {
      "image/png": "[encoded data removed]",
      "text/plain": [
       "plot without title"
      ]
     },
     "metadata": {},
     "output_type": "display_data"
    }
   ],
   "source": [
    "vp <- ggplot( dfd, aes(group = TRUE, x = \"\", y = Depth)) + \n",
    "    geom_violin(trim = FALSE)+\n",
    "    geom_boxplot( width = 0.2, fill = \"grey\")+ theme_dark()\n",
    "vp"
   ]
  },
  {
   "cell_type": "code",
   "execution_count": 293,
   "metadata": {},
   "outputs": [
    {
     "name": "stderr",
     "output_type": "stream",
     "text": [
      "`geom_smooth()` using method = 'gam' and formula 'y ~ s(x, bs = \"cs\")'\n"
     ]
    },
    {
     "data": {
      "image/png": "[encoded data removed]",
      "text/plain": [
       "plot without title"
      ]
     },
     "metadata": {},
     "output_type": "display_data"
    }
   ],
   "source": [
    "ggplot(data = dfd, mapping = aes(Depth, Temperature)) + geom_point() + geom_smooth() + theme_dark()"
   ]
  },
  {
   "cell_type": "code",
   "execution_count": 294,
   "metadata": {},
   "outputs": [
    {
     "name": "stderr",
     "output_type": "stream",
     "text": [
      "`geom_smooth()` using method = 'gam' and formula 'y ~ s(x, bs = \"cs\")'\n"
     ]
    },
    {
     "data": {
      "image/png": "[encoded data removed]",
      "text/plain": [
       "plot without title"
      ]
     },
     "metadata": {},
     "output_type": "display_data"
    }
   ],
   "source": [
    "ggplot(data = dfT, mapping = aes(Depth, Temperature)) + geom_point() + geom_smooth() + theme_dark()"
   ]
  },
  {
   "cell_type": "code",
   "execution_count": 299,
   "metadata": {},
   "outputs": [
    {
     "data": {
      "text/plain": [
       "\n",
       "Call:\n",
       "lm(formula = Temperature ~ Ts + Depth + Latitude + Longitude + \n",
       "    Month, data = dfT)\n",
       "\n",
       "Residuals:\n",
       "    Min      1Q  Median      3Q     Max \n",
       "-9.8985 -2.7628 -0.7294  2.3352 24.0693 \n",
       "\n",
       "Coefficients:\n",
       "              Estimate Std. Error t value Pr(>|t|)    \n",
       "(Intercept)  2.029e+02  3.141e+00   64.60   <2e-16 ***\n",
       "Ts           1.309e-01  2.952e-03   44.36   <2e-16 ***\n",
       "Depth       -2.179e-02  4.184e-05 -520.86   <2e-16 ***\n",
       "Latitude    -1.050e+00  8.401e-03 -125.02   <2e-16 ***\n",
       "Longitude    1.836e+00  3.601e-02   51.00   <2e-16 ***\n",
       "Month       -8.754e-02  3.518e-03  -24.89   <2e-16 ***\n",
       "---\n",
       "Signif. codes:  0 '***' 0.001 '**' 0.01 '*' 0.05 '.' 0.1 ' ' 1\n",
       "\n",
       "Residual standard error: 3.762 on 108458 degrees of freedom\n",
       "Multiple R-squared:  0.7404,\tAdjusted R-squared:  0.7404 \n",
       "F-statistic: 6.187e+04 on 5 and 108458 DF,  p-value: < 2.2e-16\n"
      ]
     },
     "metadata": {},
     "output_type": "display_data"
    },
    {
     "data": {
      "text/plain": [
       "\n",
       "Call:\n",
       "lm(formula = Temperature ~ Ts + Depth + Latitude + Longitude + \n",
       "    Month, data = dfd)\n",
       "\n",
       "Residuals:\n",
       "    Min      1Q  Median      3Q     Max \n",
       "-8.5790 -2.1466 -0.1585  2.1338 15.1392 \n",
       "\n",
       "Coefficients:\n",
       "              Estimate Std. Error t value Pr(>|t|)    \n",
       "(Intercept)  2.341e+02  2.434e+00   96.17   <2e-16 ***\n",
       "Ts           5.521e-02  2.306e-03   23.94   <2e-16 ***\n",
       "Depth       -2.839e-02  4.031e-05 -704.31   <2e-16 ***\n",
       "Latitude    -7.049e-01  6.795e-03 -103.75   <2e-16 ***\n",
       "Longitude    2.250e+00  2.791e-02   80.63   <2e-16 ***\n",
       "Month       -2.837e-02  2.731e-03  -10.39   <2e-16 ***\n",
       "---\n",
       "Signif. codes:  0 '***' 0.001 '**' 0.01 '*' 0.05 '.' 0.1 ' ' 1\n",
       "\n",
       "Residual standard error: 2.895 on 105399 degrees of freedom\n",
       "Multiple R-squared:  0.8397,\tAdjusted R-squared:  0.8397 \n",
       "F-statistic: 1.105e+05 on 5 and 105399 DF,  p-value: < 2.2e-16\n"
      ]
     },
     "metadata": {},
     "output_type": "display_data"
    }
   ],
   "source": [
    "reg <- lm(Temperature ~ Ts + Depth + Latitude + Longitude  + Month , data = dfT)\n",
    "summary(reg)\n",
    "reg2 <- lm(Temperature ~ Ts + Depth + Latitude + Longitude  + Month , data = dfd)\n",
    "summary(reg2)"
   ]
  },
  {
   "cell_type": "code",
   "execution_count": 309,
   "metadata": {},
   "outputs": [],
   "source": [
    "dfT <-dfd"
   ]
  },
  {
   "cell_type": "markdown",
   "metadata": {},
   "source": [
    "### Variable predictora Latitude"
   ]
  },
  {
   "cell_type": "code",
   "execution_count": 310,
   "metadata": {},
   "outputs": [
    {
     "name": "stdout",
     "output_type": "stream",
     "text": [
      "Resumen estadístico de variable predictora"
     ]
    },
    {
     "data": {
      "text/plain": [
       "   Min. 1st Qu.  Median    Mean 3rd Qu.    Max. \n",
       "  18.20   21.04   22.23   21.93   23.07   23.55 "
      ]
     },
     "metadata": {},
     "output_type": "display_data"
    },
    {
     "name": "stdout",
     "output_type": "stream",
     "text": [
      "Correlación de variable predictora Latitude con variable de respuesta"
     ]
    },
    {
     "data": {
      "text/html": [
       "-0.230495783278165"
      ],
      "text/latex": [
       "-0.230495783278165"
      ],
      "text/markdown": [
       "-0.230495783278165"
      ],
      "text/plain": [
       "[1] -0.2304958"
      ]
     },
     "metadata": {},
     "output_type": "display_data"
    }
   ],
   "source": [
    "cat(\"Resumen estadístico de variable predictora\")\n",
    "summary(dfT$Latitude)\n",
    "cat(\"Correlación de variable predictora Latitude con variable de respuesta\")\n",
    "cor(dfT$Latitude, dfT$Temperature)"
   ]
  },
  {
   "cell_type": "code",
   "execution_count": 311,
   "metadata": {},
   "outputs": [
    {
     "data": {
      "image/png": "[encoded data removed]",
      "text/plain": [
       "plot without title"
      ]
     },
     "metadata": {},
     "output_type": "display_data"
    }
   ],
   "source": [
    "ggplot(data = dfT) + geom_histogram(mapping = aes(x = Latitude), binwidth = 0.25) + theme_dark()"
   ]
  },
  {
   "cell_type": "code",
   "execution_count": 314,
   "metadata": {},
   "outputs": [
    {
     "data": {
      "image/png": "[encoded data removed]",
      "text/plain": [
       "plot without title"
      ]
     },
     "metadata": {},
     "output_type": "display_data"
    }
   ],
   "source": [
    "vp <- ggplot( dfT, aes(group = TRUE, x = \"Temperature\", y = Latitude)) + \n",
    "    geom_violin(trim = FALSE)+\n",
    "    geom_boxplot( width = 0.2, fill = \"grey\")+ theme_dark()\n",
    "vp"
   ]
  },
  {
   "cell_type": "code",
   "execution_count": 313,
   "metadata": {},
   "outputs": [
    {
     "name": "stderr",
     "output_type": "stream",
     "text": [
      "`geom_smooth()` using method = 'gam' and formula 'y ~ s(x, bs = \"cs\")'\n"
     ]
    },
    {
     "data": {
      "image/png": "[encoded data removed]",
      "text/plain": [
       "plot without title"
      ]
     },
     "metadata": {},
     "output_type": "display_data"
    }
   ],
   "source": [
    "ggplot(data = dfT, mapping = aes(Latitude, Temperature)) + geom_point() + geom_smooth() + theme_dark()"
   ]
  },
  {
   "cell_type": "markdown",
   "metadata": {},
   "source": [
    "### Variable predictora Longitude"
   ]
  },
  {
   "cell_type": "markdown",
   "metadata": {},
   "source": [
    "La primera variable es la longitud. Esta variable tiene una correlación muy baja respecto a la temperatura. Además, la distribución de la variable se encuentra sesgada. El boxplot nos permite visualizar que la variable contiene datos atípicos.\n"
   ]
  },
  {
   "cell_type": "code",
   "execution_count": 195,
   "metadata": {},
   "outputs": [
    {
     "name": "stdout",
     "output_type": "stream",
     "text": [
      "Resumen estadístico de variable predictora"
     ]
    },
    {
     "data": {
      "text/plain": [
       "   Min. 1st Qu.  Median    Mean 3rd Qu.    Max. \n",
       " -87.55  -86.62  -86.35  -86.39  -86.11  -85.88 "
      ]
     },
     "metadata": {},
     "output_type": "display_data"
    },
    {
     "name": "stdout",
     "output_type": "stream",
     "text": [
      "Correlación de variable predictora Longitud con variable de respuesta"
     ]
    },
    {
     "data": {
      "text/html": [
       "-0.221846884637988"
      ],
      "text/latex": [
       "-0.221846884637988"
      ],
      "text/markdown": [
       "-0.221846884637988"
      ],
      "text/plain": [
       "[1] -0.2218469"
      ]
     },
     "metadata": {},
     "output_type": "display_data"
    }
   ],
   "source": [
    "cat(\"Resumen estadístico de variable predictora\")\n",
    "summary(dfT$Longitude)\n",
    "cat(\"Correlación de variable predictora Longitud con variable de respuesta\")\n",
    "cor(dfT$Longitude, dfT$Temperature)"
   ]
  },
  {
   "cell_type": "code",
   "execution_count": 275,
   "metadata": {},
   "outputs": [
    {
     "data": {
      "image/png": "[encoded data removed]",
      "text/plain": [
       "plot without title"
      ]
     },
     "metadata": {},
     "output_type": "display_data"
    }
   ],
   "source": [
    "ggplot(data = dfT) + geom_histogram(mapping = aes(x = Longitude), binwidth = 0.25) + theme_dark()"
   ]
  },
  {
   "cell_type": "code",
   "execution_count": 276,
   "metadata": {},
   "outputs": [
    {
     "data": {
      "image/png": "[encoded data removed]",
      "text/plain": [
       "plot without title"
      ]
     },
     "metadata": {},
     "output_type": "display_data"
    }
   ],
   "source": [
    "vp <- ggplot( dfT, aes(group = TRUE, x = \"\", y = Longitude)) + \n",
    "    geom_violin(trim = FALSE)+\n",
    "    geom_boxplot( width = 0.2, fill = \"grey\")+ theme_dark()\n",
    "vp"
   ]
  },
  {
   "cell_type": "code",
   "execution_count": 282,
   "metadata": {},
   "outputs": [
    {
     "name": "stderr",
     "output_type": "stream",
     "text": [
      "`geom_smooth()` using method = 'gam' and formula 'y ~ s(x, bs = \"cs\")'\n"
     ]
    },
    {
     "data": {
      "image/png": "[encoded data removed]",
      "text/plain": [
       "plot without title"
      ]
     },
     "metadata": {},
     "output_type": "display_data"
    }
   ],
   "source": [
    "ggplot(data = dfT, mapping = aes(Temperature, Longitude)) + geom_point() + geom_smooth() + theme_dark()"
   ]
  },
  {
   "attachments": {},
   "cell_type": "markdown",
   "metadata": {},
   "source": [
    "### Variable predictora Month"
   ]
  },
  {
   "cell_type": "code",
   "execution_count": 283,
   "metadata": {},
   "outputs": [
    {
     "name": "stdout",
     "output_type": "stream",
     "text": [
      "Resumen estadístico de variable predictora"
     ]
    },
    {
     "data": {
      "text/plain": [
       "   Min. 1st Qu.  Median    Mean 3rd Qu.    Max. \n",
       "  1.000   5.000   7.000   7.362  11.000  12.000 "
      ]
     },
     "metadata": {},
     "output_type": "display_data"
    },
    {
     "name": "stdout",
     "output_type": "stream",
     "text": [
      "Correlación de variable predictora Month con variable de respuesta"
     ]
    },
    {
     "data": {
      "text/html": [
       "-0.00333840749851117"
      ],
      "text/latex": [
       "-0.00333840749851117"
      ],
      "text/markdown": [
       "-0.00333840749851117"
      ],
      "text/plain": [
       "[1] -0.003338407"
      ]
     },
     "metadata": {},
     "output_type": "display_data"
    }
   ],
   "source": [
    "cat(\"Resumen estadístico de variable predictora\")\n",
    "summary(dfT$Month)\n",
    "cat(\"Correlación de variable predictora Month con variable de respuesta\")\n",
    "cor(dfT$Month, dfT$Temperature)"
   ]
  },
  {
   "cell_type": "code",
   "execution_count": 213,
   "metadata": {},
   "outputs": [
    {
     "data": {
      "image/png": "[encoded data removed]",
      "text/plain": [
       "plot without title"
      ]
     },
     "metadata": {},
     "output_type": "display_data"
    }
   ],
   "source": [
    "ggplot(data = dfT) + geom_histogram(mapping = aes(x = Month), binwidth = 1) + theme_dark()"
   ]
  },
  {
   "cell_type": "code",
   "execution_count": 279,
   "metadata": {},
   "outputs": [
    {
     "data": {
      "image/png": "[encoded data removed]",
      "text/plain": [
       "plot without title"
      ]
     },
     "metadata": {},
     "output_type": "display_data"
    }
   ],
   "source": [
    "vp <- ggplot( dfT, aes(group = TRUE, x = \"\", y = Month)) + \n",
    "    geom_violin(trim = FALSE)+\n",
    "    geom_boxplot( width = 0.2, fill = \"grey\")+ theme_dark()\n",
    "vp"
   ]
  },
  {
   "cell_type": "code",
   "execution_count": 270,
   "metadata": {},
   "outputs": [
    {
     "name": "stderr",
     "output_type": "stream",
     "text": [
      "`geom_smooth()` using method = 'gam' and formula 'y ~ s(x, bs = \"cs\")'\n"
     ]
    },
    {
     "data": {
      "image/png": "[encoded data removed]",
      "text/plain": [
       "plot without title"
      ]
     },
     "metadata": {},
     "output_type": "display_data"
    }
   ],
   "source": [
    "ggplot(data = dfT, mapping = aes(Month, Temperature)) + geom_point() + geom_smooth() + theme_dark()"
   ]
  },
  {
   "cell_type": "code",
   "execution_count": 322,
   "metadata": {},
   "outputs": [
    {
     "data": {
      "text/html": [
       "<ol class=list-inline>\n",
       "\t<li>3678873</li>\n",
       "\t<li>3679613</li>\n",
       "\t<li>3679603</li>\n",
       "\t<li>3681827</li>\n",
       "\t<li>3681828</li>\n",
       "\t<li>10268672</li>\n",
       "</ol>\n"
      ],
      "text/latex": [
       "\\begin{enumerate*}\n",
       "\\item 3678873\n",
       "\\item 3679613\n",
       "\\item 3679603\n",
       "\\item 3681827\n",
       "\\item 3681828\n",
       "\\item 10268672\n",
       "\\end{enumerate*}\n"
      ],
      "text/markdown": [
       "1. 3678873\n",
       "2. 3679613\n",
       "3. 3679603\n",
       "4. 3681827\n",
       "5. 3681828\n",
       "6. 10268672\n",
       "\n",
       "\n"
      ],
      "text/plain": [
       "[1]  3678873  3679613  3679603  3681827  3681828 10268672"
      ]
     },
     "metadata": {},
     "output_type": "display_data"
    }
   ],
   "source": [
    "head(unique(dfT$Cast))"
   ]
  },
  {
   "cell_type": "code",
   "execution_count": 402,
   "metadata": {},
   "outputs": [
    {
     "data": {
      "text/html": [
       "<table>\n",
       "<thead><tr><th scope=col>Temperature</th><th scope=col>Ts</th><th scope=col>Depth</th><th scope=col>Latitude</th><th scope=col>Longitude</th><th scope=col>Month</th><th scope=col>Cast</th></tr></thead>\n",
       "<tbody>\n",
       "\t<tr><td>27.71   </td><td>17.71216</td><td>24      </td><td>22.32   </td><td>-86.18  </td><td>6       </td><td>2714792 </td></tr>\n",
       "\t<tr><td>27.34   </td><td>17.71216</td><td>36      </td><td>22.32   </td><td>-86.18  </td><td>6       </td><td>2714792 </td></tr>\n",
       "\t<tr><td>25.61   </td><td>17.71216</td><td>53      </td><td>22.32   </td><td>-86.18  </td><td>6       </td><td>2714792 </td></tr>\n",
       "\t<tr><td>25.14   </td><td>17.71216</td><td>64      </td><td>22.32   </td><td>-86.18  </td><td>6       </td><td>2714792 </td></tr>\n",
       "\t<tr><td>23.80   </td><td>17.71216</td><td>75      </td><td>22.32   </td><td>-86.18  </td><td>6       </td><td>2714792 </td></tr>\n",
       "\t<tr><td>22.83   </td><td>17.71216</td><td>89      </td><td>22.32   </td><td>-86.18  </td><td>6       </td><td>2714792 </td></tr>\n",
       "</tbody>\n",
       "</table>\n"
      ],
      "text/latex": [
       "\\begin{tabular}{r|lllllll}\n",
       " Temperature & Ts & Depth & Latitude & Longitude & Month & Cast\\\\\n",
       "\\hline\n",
       "\t 27.71    & 17.71216 & 24       & 22.32    & -86.18   & 6        & 2714792 \\\\\n",
       "\t 27.34    & 17.71216 & 36       & 22.32    & -86.18   & 6        & 2714792 \\\\\n",
       "\t 25.61    & 17.71216 & 53       & 22.32    & -86.18   & 6        & 2714792 \\\\\n",
       "\t 25.14    & 17.71216 & 64       & 22.32    & -86.18   & 6        & 2714792 \\\\\n",
       "\t 23.80    & 17.71216 & 75       & 22.32    & -86.18   & 6        & 2714792 \\\\\n",
       "\t 22.83    & 17.71216 & 89       & 22.32    & -86.18   & 6        & 2714792 \\\\\n",
       "\\end{tabular}\n"
      ],
      "text/markdown": [
       "\n",
       "| Temperature | Ts | Depth | Latitude | Longitude | Month | Cast |\n",
       "|---|---|---|---|---|---|---|\n",
       "| 27.71    | 17.71216 | 24       | 22.32    | -86.18   | 6        | 2714792  |\n",
       "| 27.34    | 17.71216 | 36       | 22.32    | -86.18   | 6        | 2714792  |\n",
       "| 25.61    | 17.71216 | 53       | 22.32    | -86.18   | 6        | 2714792  |\n",
       "| 25.14    | 17.71216 | 64       | 22.32    | -86.18   | 6        | 2714792  |\n",
       "| 23.80    | 17.71216 | 75       | 22.32    | -86.18   | 6        | 2714792  |\n",
       "| 22.83    | 17.71216 | 89       | 22.32    | -86.18   | 6        | 2714792  |\n",
       "\n"
      ],
      "text/plain": [
       "  Temperature Ts       Depth Latitude Longitude Month Cast   \n",
       "1 27.71       17.71216 24    22.32    -86.18    6     2714792\n",
       "2 27.34       17.71216 36    22.32    -86.18    6     2714792\n",
       "3 25.61       17.71216 53    22.32    -86.18    6     2714792\n",
       "4 25.14       17.71216 64    22.32    -86.18    6     2714792\n",
       "5 23.80       17.71216 75    22.32    -86.18    6     2714792\n",
       "6 22.83       17.71216 89    22.32    -86.18    6     2714792"
      ]
     },
     "metadata": {},
     "output_type": "display_data"
    }
   ],
   "source": [
    "#Checamos los cast por los meses en los que hicieron más \n",
    "d_cast <- dfT[dfT$Month == 6 ]\n",
    "head(d_cast)"
   ]
  },
  {
   "cell_type": "markdown",
   "metadata": {},
   "source": [
    "### Exploración de Cast aleatorios en diferentes meses"
   ]
  },
  {
   "cell_type": "code",
   "execution_count": 400,
   "metadata": {},
   "outputs": [
    {
     "data": {
      "image/png": "[encoded data removed]",
      "text/plain": [
       "plot without title"
      ]
     },
     "metadata": {},
     "output_type": "display_data"
    }
   ],
   "source": [
    "d_cast <- dfT[dfT$Cast == 16574861, c(\"Temperature\", \"Depth\")]\n",
    "plot(d_cast$Temperature, -d_cast$Depth, col=\"red\")"
   ]
  },
  {
   "cell_type": "code",
   "execution_count": 332,
   "metadata": {},
   "outputs": [
    {
     "data": {
      "image/png": "[encoded data removed]",
      "text/plain": [
       "plot without title"
      ]
     },
     "metadata": {},
     "output_type": "display_data"
    }
   ],
   "source": [
    "d_cast <- dfT[dfT$Cast == 10270602, c(\"Temperature\", \"Depth\")]\n",
    "plot(d_cast$Temperature, -d_cast$Depth, col=\"red\")"
   ]
  },
  {
   "cell_type": "markdown",
   "metadata": {},
   "source": [
    "### cast aleatorios en mes 5"
   ]
  },
  {
   "cell_type": "code",
   "execution_count": 334,
   "metadata": {},
   "outputs": [
    {
     "data": {
      "image/png": "[encoded data removed]",
      "text/plain": [
       "plot without title"
      ]
     },
     "metadata": {},
     "output_type": "display_data"
    }
   ],
   "source": [
    "d_cast <- dfT[dfT$Cast == 18825534, c(\"Temperature\", \"Depth\")]\n",
    "plot(d_cast$Temperature, -d_cast$Depth, col=\"red\")"
   ]
  },
  {
   "cell_type": "code",
   "execution_count": 335,
   "metadata": {},
   "outputs": [
    {
     "data": {
      "image/png": "[encoded data removed]",
      "text/plain": [
       "plot without title"
      ]
     },
     "metadata": {},
     "output_type": "display_data"
    }
   ],
   "source": [
    "d_cast <- dfT[dfT$Cast == 2711106, c(\"Temperature\", \"Depth\")]\n",
    "plot(d_cast$Temperature, -d_cast$Depth, col=\"red\")"
   ]
  },
  {
   "cell_type": "code",
   "execution_count": null,
   "metadata": {},
   "outputs": [],
   "source": [
    "### Cast aleatorios en mes "
   ]
  },
  {
   "cell_type": "code",
   "execution_count": 337,
   "metadata": {},
   "outputs": [
    {
     "data": {
      "image/png": "[encoded data removed]",
      "text/plain": [
       "plot without title"
      ]
     },
     "metadata": {},
     "output_type": "display_data"
    }
   ],
   "source": [
    "d_cast <- dfT[dfT$Cast == 18868505, c(\"Temperature\", \"Depth\")]\n",
    "plot(d_cast$Temperature, -d_cast$Depth, col=\"red\")"
   ]
  },
  {
   "cell_type": "code",
   "execution_count": 341,
   "metadata": {},
   "outputs": [
    {
     "data": {
      "image/png": "[encoded data removed]",
      "text/plain": [
       "plot without title"
      ]
     },
     "metadata": {},
     "output_type": "display_data"
    }
   ],
   "source": [
    "d_cast <- dfT[dfT$Cast == 18838718, c(\"Temperature\", \"Depth\")]\n",
    "plot(d_cast$Temperature, -d_cast$Depth, col=\"red\")"
   ]
  },
  {
   "cell_type": "code",
   "execution_count": null,
   "metadata": {},
   "outputs": [],
   "source": [
    "err_test <- c()\n",
    "deg <- c()\n",
    "for(d in 1:10){\n",
    "  reg <- lm(Trans.Temp(Temperature) ~ X + Y + poly(Z, d, raw = T) + X*Y + Y*Z + X*Y*Z + m + ts, data = df_train)\n",
    "  test_pred <- predict(reg, df_test)\n",
    "  err <- sum(test_pred - df_test$Temperature)^2  \n",
    "  err_test <- c(err_test, err)\n",
    "  deg <- c(deg, d)\n",
    "}"
   ]
  },
  {
   "cell_type": "code",
   "execution_count": 401,
   "metadata": {},
   "outputs": [
    {
     "data": {
      "text/plain": [
       "\n",
       "Call:\n",
       "lm(formula = Temperature ~ Ts + Depth + Latitude + Longitude + \n",
       "    Month + Cast, data = dfT)\n",
       "\n",
       "Residuals:\n",
       "   Min     1Q Median     3Q    Max \n",
       "-8.695 -2.131 -0.188  2.122 14.987 \n",
       "\n",
       "Coefficients:\n",
       "              Estimate Std. Error  t value Pr(>|t|)    \n",
       "(Intercept)  2.428e+02  2.489e+00   97.549   <2e-16 ***\n",
       "Ts           7.945e-02  2.740e-03   28.992   <2e-16 ***\n",
       "Depth       -2.833e-02  4.045e-05 -700.325   <2e-16 ***\n",
       "Latitude    -7.295e-01  6.951e-03 -104.948   <2e-16 ***\n",
       "Longitude    2.348e+00  2.851e-02   82.361   <2e-16 ***\n",
       "Month       -2.326e-02  2.745e-03   -8.473   <2e-16 ***\n",
       "Cast        -3.470e-08  2.126e-09  -16.322   <2e-16 ***\n",
       "---\n",
       "Signif. codes:  0 '***' 0.001 '**' 0.01 '*' 0.05 '.' 0.1 ' ' 1\n",
       "\n",
       "Residual standard error: 2.892 on 105398 degrees of freedom\n",
       "Multiple R-squared:  0.8402,\tAdjusted R-squared:  0.8401 \n",
       "F-statistic: 9.233e+04 on 6 and 105398 DF,  p-value: < 2.2e-16\n"
      ]
     },
     "metadata": {},
     "output_type": "display_data"
    }
   ],
   "source": [
    "## Modelo 0 \n",
    "mod0 <- lm(Temperature ~ Ts + Depth + Latitude + Longitude + Month + Cast, data = dfT)\n",
    "summary(mod0)\n"
   ]
  },
  {
   "cell_type": "code",
   "execution_count": 403,
   "metadata": {},
   "outputs": [
    {
     "data": {
      "text/html": [
       "<dl class=dl-horizontal>\n",
       "\t<dt>Ts</dt>\n",
       "\t\t<dd>1.44508696247755</dd>\n",
       "\t<dt>Depth</dt>\n",
       "\t\t<dd>1.13682464890897</dd>\n",
       "\t<dt>Latitude</dt>\n",
       "\t\t<dd>1.08235226965906</dd>\n",
       "\t<dt>Longitude</dt>\n",
       "\t\t<dd>1.16797544904596</dd>\n",
       "\t<dt>Month</dt>\n",
       "\t\t<dd>1.02113505044835</dd>\n",
       "\t<dt>Cast</dt>\n",
       "\t\t<dd>1.56035159170331</dd>\n",
       "</dl>\n"
      ],
      "text/latex": [
       "\\begin{description*}\n",
       "\\item[Ts] 1.44508696247755\n",
       "\\item[Depth] 1.13682464890897\n",
       "\\item[Latitude] 1.08235226965906\n",
       "\\item[Longitude] 1.16797544904596\n",
       "\\item[Month] 1.02113505044835\n",
       "\\item[Cast] 1.56035159170331\n",
       "\\end{description*}\n"
      ],
      "text/markdown": [
       "Ts\n",
       ":   1.44508696247755Depth\n",
       ":   1.13682464890897Latitude\n",
       ":   1.08235226965906Longitude\n",
       ":   1.16797544904596Month\n",
       ":   1.02113505044835Cast\n",
       ":   1.56035159170331\n",
       "\n"
      ],
      "text/plain": [
       "       Ts     Depth  Latitude Longitude     Month      Cast \n",
       " 1.445087  1.136825  1.082352  1.167975  1.021135  1.560352 "
      ]
     },
     "metadata": {},
     "output_type": "display_data"
    }
   ],
   "source": [
    "vif(mod0)"
   ]
  },
  {
   "cell_type": "code",
   "execution_count": 371,
   "metadata": {},
   "outputs": [],
   "source": [
    "library(caret)"
   ]
  },
  {
   "cell_type": "code",
   "execution_count": 378,
   "metadata": {
    "scrolled": true
   },
   "outputs": [
    {
     "name": "stdout",
     "output_type": "stream",
     "text": [
      "Linear Regression \n",
      "\n",
      "105405 samples\n",
      "     6 predictor\n",
      "\n",
      "No pre-processing\n",
      "Resampling: Cross-Validated (10 fold) \n",
      "Summary of sample sizes: 94864, 94865, 94864, 94864, 94866, 94865, ... \n",
      "Resampling results:\n",
      "\n",
      "  RMSE      Rsquared   MAE     \n",
      "  2.891659  0.8401605  2.360145\n",
      "\n",
      "Tuning parameter 'intercept' was held constant at a value of TRUE\n"
     ]
    }
   ],
   "source": [
    "# Define training control\n",
    "set.seed(123) \n",
    "train.control <- trainControl(method = \"cv\", number = 10)\n",
    "# Train the model\n",
    "model <- train(Temperature ~., data = dfT, method = \"lm\",\n",
    "               trControl = train.control)\n",
    "# Summarize the results\n",
    "print(model)"
   ]
  },
  {
   "cell_type": "code",
   "execution_count": 379,
   "metadata": {},
   "outputs": [
    {
     "data": {
      "text/plain": [
       "\n",
       "Call:\n",
       "lm(formula = .outcome ~ ., data = dat)\n",
       "\n",
       "Residuals:\n",
       "   Min     1Q Median     3Q    Max \n",
       "-8.695 -2.131 -0.188  2.122 14.987 \n",
       "\n",
       "Coefficients:\n",
       "              Estimate Std. Error  t value Pr(>|t|)    \n",
       "(Intercept)  2.428e+02  2.489e+00   97.549   <2e-16 ***\n",
       "Ts           7.945e-02  2.740e-03   28.992   <2e-16 ***\n",
       "Depth       -2.833e-02  4.045e-05 -700.325   <2e-16 ***\n",
       "Latitude    -7.295e-01  6.951e-03 -104.948   <2e-16 ***\n",
       "Longitude    2.348e+00  2.851e-02   82.361   <2e-16 ***\n",
       "Month       -2.326e-02  2.745e-03   -8.473   <2e-16 ***\n",
       "Cast        -3.470e-08  2.126e-09  -16.322   <2e-16 ***\n",
       "---\n",
       "Signif. codes:  0 '***' 0.001 '**' 0.01 '*' 0.05 '.' 0.1 ' ' 1\n",
       "\n",
       "Residual standard error: 2.892 on 105398 degrees of freedom\n",
       "Multiple R-squared:  0.8402,\tAdjusted R-squared:  0.8401 \n",
       "F-statistic: 9.233e+04 on 6 and 105398 DF,  p-value: < 2.2e-16\n"
      ]
     },
     "metadata": {},
     "output_type": "display_data"
    }
   ],
   "source": [
    "summary(model)"
   ]
  },
  {
   "cell_type": "code",
   "execution_count": null,
   "metadata": {},
   "outputs": [],
   "source": []
  },
  {
   "cell_type": "code",
   "execution_count": null,
   "metadata": {},
   "outputs": [],
   "source": []
  },
  {
   "cell_type": "code",
   "execution_count": null,
   "metadata": {},
   "outputs": [],
   "source": []
  },
  {
   "cell_type": "code",
   "execution_count": 355,
   "metadata": {},
   "outputs": [
    {
     "name": "stderr",
     "output_type": "stream",
     "text": [
      "Warning message in spreadLevelPlot.lm(r):\n",
      "\"\n",
      "1069 negative fitted values removed\""
     ]
    },
    {
     "data": {
      "text/plain": [
       "\n",
       "Suggested power transformation:  0.771433 "
      ]
     },
     "metadata": {},
     "output_type": "display_data"
    },
    {
     "data": {
      "text/plain": [
       "\n",
       "Call:\n",
       "lm(formula = Temperature ~ Depth, data = dfT)\n",
       "\n",
       "Residuals:\n",
       "    Min      1Q  Median      3Q     Max \n",
       "-8.7900 -2.1619  0.0661  2.3357 15.0565 \n",
       "\n",
       "Coefficients:\n",
       "              Estimate Std. Error t value Pr(>|t|)    \n",
       "(Intercept)  2.500e+01  1.618e-02  1545.2   <2e-16 ***\n",
       "Depth       -2.781e-02  4.081e-05  -681.4   <2e-16 ***\n",
       "---\n",
       "Signif. codes:  0 '***' 0.001 '**' 0.01 '*' 0.05 '.' 0.1 ' ' 1\n",
       "\n",
       "Residual standard error: 3.111 on 105403 degrees of freedom\n",
       "Multiple R-squared:  0.815,\tAdjusted R-squared:  0.815 \n",
       "F-statistic: 4.643e+05 on 1 and 105403 DF,  p-value: < 2.2e-16\n"
      ]
     },
     "metadata": {},
     "output_type": "display_data"
    },
    {
     "data": {
      "image/png": "[encoded data removed]",
      "text/plain": [
       "Plot with title \"Spread-Level Plot for\n",
       " r\""
      ]
     },
     "metadata": {},
     "output_type": "display_data"
    }
   ],
   "source": [
    "library(\"car\")\n",
    "r <- lm(Temperature ~ Depth, data = dfT)\n",
    "spreadLevelPlot(r)\n",
    "summary(r)"
   ]
  },
  {
   "cell_type": "code",
   "execution_count": 361,
   "metadata": {},
   "outputs": [
    {
     "data": {
      "text/plain": [
       "\n",
       "Call:\n",
       "lm(formula = Temperature ~ Ts + Depth + Latitude + Longitude + \n",
       "    Month + Cast, data = dfT)\n",
       "\n",
       "Residuals:\n",
       "   Min     1Q Median     3Q    Max \n",
       "-8.695 -2.131 -0.188  2.122 14.987 \n",
       "\n",
       "Coefficients:\n",
       "              Estimate Std. Error  t value Pr(>|t|)    \n",
       "(Intercept)  2.428e+02  2.489e+00   97.549   <2e-16 ***\n",
       "Ts           7.945e-02  2.740e-03   28.992   <2e-16 ***\n",
       "Depth       -2.833e-02  4.045e-05 -700.325   <2e-16 ***\n",
       "Latitude    -7.295e-01  6.951e-03 -104.948   <2e-16 ***\n",
       "Longitude    2.348e+00  2.851e-02   82.361   <2e-16 ***\n",
       "Month       -2.326e-02  2.745e-03   -8.473   <2e-16 ***\n",
       "Cast        -3.470e-08  2.126e-09  -16.322   <2e-16 ***\n",
       "---\n",
       "Signif. codes:  0 '***' 0.001 '**' 0.01 '*' 0.05 '.' 0.1 ' ' 1\n",
       "\n",
       "Residual standard error: 2.892 on 105398 degrees of freedom\n",
       "Multiple R-squared:  0.8402,\tAdjusted R-squared:  0.8401 \n",
       "F-statistic: 9.233e+04 on 6 and 105398 DF,  p-value: < 2.2e-16\n"
      ]
     },
     "metadata": {},
     "output_type": "display_data"
    }
   ],
   "source": [
    "lmp <- lm(Temperature ~ Ts + Depth + Latitude + Longitude + Month + Cast, data = dfT)\n",
    "summary(lmp)"
   ]
  },
  {
   "cell_type": "code",
   "execution_count": 364,
   "metadata": {},
   "outputs": [
    {
     "data": {
      "text/plain": [
       "\n",
       "Call:\n",
       "lm(formula = (Temperature^0.771433) ~ Ts + Depth + Latitude:Longitude + \n",
       "    Month, data = dfT)\n",
       "\n",
       "Residuals:\n",
       "    Min      1Q  Median      3Q     Max \n",
       "-3.4362 -0.8483  0.0142  0.8545  6.1335 \n",
       "\n",
       "Coefficients:\n",
       "                     Estimate Std. Error t value Pr(>|t|)    \n",
       "(Intercept)         1.761e+01  6.105e-02  288.47   <2e-16 ***\n",
       "Ts                  1.671e-02  9.099e-04   18.36   <2e-16 ***\n",
       "Depth              -1.143e-02  1.520e-05 -751.73   <2e-16 ***\n",
       "Month              -1.449e-02  1.077e-03  -13.46   <2e-16 ***\n",
       "Latitude:Longitude  3.075e-03  3.093e-05   99.42   <2e-16 ***\n",
       "---\n",
       "Signif. codes:  0 '***' 0.001 '**' 0.01 '*' 0.05 '.' 0.1 ' ' 1\n",
       "\n",
       "Residual standard error: 1.143 on 105399 degrees of freedom\n",
       "  (1 observation deleted due to missingness)\n",
       "Multiple R-squared:  0.8515,\tAdjusted R-squared:  0.8515 \n",
       "F-statistic: 1.511e+05 on 4 and 105399 DF,  p-value: < 2.2e-16\n"
      ]
     },
     "metadata": {},
     "output_type": "display_data"
    }
   ],
   "source": [
    "lmp <- lm((Temperature^0.771433 ) ~ Ts + Depth + Latitude:Longitude + + Month , data = dfT)\n",
    "summary(lmp)"
   ]
  },
  {
   "cell_type": "markdown",
   "metadata": {},
   "source": [
    "#### Separamos muestras aleatorias de los datos para poder aplicar validación cruzada"
   ]
  },
  {
   "cell_type": "code",
   "execution_count": 391,
   "metadata": {},
   "outputs": [],
   "source": [
    "cast<- unique(dfT$Cast)\n",
    "size_cast <- length(cast)\n",
    "# Obtenemos el 80% de los cast\n",
    "s1 <- sample( 1:size_cast, 0.2*size_cast)\n",
    "\n",
    "d_quitar <- cast[s1]\n",
    "tamd_quitar <- length(d_quitar)\n",
    "df_t<- dfT\n",
    "\n",
    "for(i in 1:tamd_quitar){\n",
    "    df_t <- df_t %>% filter(Cast != d_quitar[i])\n",
    "}\n",
    "\n",
    "# Obtenemos el 20% de los cast\n",
    "s2 <- sample( 1:size_cast, 0.8*size_cast)\n",
    "d_test <- cast[s2]\n",
    "tamd_test <- length(d_test)"
   ]
  },
  {
   "cell_type": "code",
   "execution_count": 394,
   "metadata": {},
   "outputs": [],
   "source": [
    "rc <- c()\n",
    "for(d in 1:5){\n",
    " for (j in 1:10){\n",
    " reg1 <- lm(Temperature ~ poly(Depth,j, raw = T) + poly(Longitude,d,raw\n",
    "= T) + poly(Latitude,d,raw = T), data = dfT)\n",
    " sr <- summary(reg1)\n",
    " #r2 <- c(r2,sr$r.squared)\n",
    " rc <- append(rc, sr$r.squared)\n",
    " }\n",
    "}"
   ]
  },
  {
   "cell_type": "code",
   "execution_count": 393,
   "metadata": {},
   "outputs": [
    {
     "name": "stdout",
     "output_type": "stream",
     "text": [
      " int [1:934] 2784792 2882115 3067318 3699380 2849493 3083115 3679603 16572830 10270710 13342785 ...\n"
     ]
    }
   ],
   "source": [
    "str(d_test)"
   ]
  },
  {
   "cell_type": "code",
   "execution_count": 343,
   "metadata": {},
   "outputs": [],
   "source": [
    "ind <- sample(2, nrow(dfT), replace = TRUE, prob = c(0.8,0.2))"
   ]
  },
  {
   "cell_type": "code",
   "execution_count": null,
   "metadata": {},
   "outputs": [],
   "source": []
  },
  {
   "cell_type": "code",
   "execution_count": 251,
   "metadata": {},
   "outputs": [],
   "source": [
    "casts <- dfT %>% group_by(Cast) %>% tally(sort = TRUE) %>% pull(Cast)\n"
   ]
  },
  {
   "cell_type": "code",
   "execution_count": 380,
   "metadata": {},
   "outputs": [],
   "source": [
    "# Separación de datos de entrenamiento y de prueba para validación cruzada\n",
    "train <- casts[1:as.integer(length(casts) * 0.6)]\n",
    "test <- casts[as.integer((length(casts) * 0.6) + 1):as.integer((length(casts) * 0.8))]\n",
    "validation <- casts[as.integer((length(casts) * 0.8) + 1):length(casts)]\n",
    "\n",
    "df_train <- dfT[Cast %in% train]\n",
    "df_test <- dfT[Cast %in% test]\n",
    "df_validation <- dfT[Cast %in% validation]"
   ]
  },
  {
   "cell_type": "code",
   "execution_count": 381,
   "metadata": {},
   "outputs": [
    {
     "ename": "ERROR",
     "evalue": "Error in Trans.Z(Z): no se pudo encontrar la función \"Trans.Z\"\n",
     "output_type": "error",
     "traceback": [
      "Error in Trans.Z(Z): no se pudo encontrar la función \"Trans.Z\"\nTraceback:\n",
      "1. lm(Trans.Temp(Temperature) ~ Longitude + poly(Latitude, poli, \n .     raw = T) + Trans.Z(Z) + Longitude * Latitude + Latitude * \n .     Z + Longitude * Latitude * Z + m + ts, data = df_train)",
      "2. eval(mf, parent.frame())",
      "3. eval(mf, parent.frame())",
      "4. stats::model.frame(formula = Trans.Temp(Temperature) ~ Longitude + \n .     poly(Latitude, poli, raw = T) + Trans.Z(Z) + Longitude * \n .     Latitude + Latitude * Z + Longitude * Latitude * Z + m + \n .     ts, data = df_train, drop.unused.levels = TRUE)",
      "5. model.frame.default(formula = Trans.Temp(Temperature) ~ Longitude + \n .     poly(Latitude, poli, raw = T) + Trans.Z(Z) + Longitude * \n .     Latitude + Latitude * Z + Longitude * Latitude * Z + m + \n .     ts, data = df_train, drop.unused.levels = TRUE)",
      "6. eval(predvars, data, env)",
      "7. eval(predvars, data, env)"
     ]
    }
   ],
   "source": [
    "err_test <- c()\n",
    "deg <- c()\n",
    "for(poli in 1:10){\n",
    "\n",
    "  mlr_poli2 <- lm(Trans.Temp(Temperature) ~ Longitude + poly(Latitude, poli, raw = T)  + Trans.Z(Z) + Longitude*Latitude + Latitude*Z + Longitude*Latitude*Z + m + ts, data = df_train)\n",
    "  test_pred <- predict(mlr_poli2, df_test)\n",
    "  err <- sum(test_pred - df_test$Temperature)^2  \n",
    "  err_test <- c(err_test, err)\n",
    "  deg <- c(deg, poli)\n",
    "}\n"
   ]
  },
  {
   "cell_type": "markdown",
   "metadata": {},
   "source": [
    "La primera transformación se aplica sobre la temperatura. Como el modelo presenta heterocedasticidad, entonces aplicamos la ráiz a los datos de la temperatura, restando el valor mínimo a cada observación para eliminar los datos negativos y no tener raíces imaginarias."
   ]
  },
  {
   "cell_type": "code",
   "execution_count": 407,
   "metadata": {},
   "outputs": [
    {
     "data": {
      "text/plain": [
       "\n",
       "Call:\n",
       "lm(formula = Trans.Temp(Temperature) ~ Ts + Depth + Latitude + \n",
       "    Longitude + Month, data = dfT)\n",
       "\n",
       "Residuals:\n",
       "     Min       1Q   Median       3Q      Max \n",
       "-2.77179 -0.21001  0.00226  0.21089  1.72440 \n",
       "\n",
       "Coefficients:\n",
       "              Estimate Std. Error  t value Pr(>|t|)    \n",
       "(Intercept)  3.045e+01  2.523e-01  120.705   <2e-16 ***\n",
       "Ts           4.260e-03  2.390e-04   17.827   <2e-16 ***\n",
       "Depth       -3.428e-03  4.177e-06 -820.630   <2e-16 ***\n",
       "Latitude    -7.626e-02  7.041e-04 -108.309   <2e-16 ***\n",
       "Longitude    2.726e-01  2.892e-03   94.265   <2e-16 ***\n",
       "Month       -2.816e-03  2.829e-04   -9.952   <2e-16 ***\n",
       "---\n",
       "Signif. codes:  0 '***' 0.001 '**' 0.01 '*' 0.05 '.' 0.1 ' ' 1\n",
       "\n",
       "Residual standard error: 0.3 on 105399 degrees of freedom\n",
       "Multiple R-squared:  0.8762,\tAdjusted R-squared:  0.8762 \n",
       "F-statistic: 1.492e+05 on 5 and 105399 DF,  p-value: < 2.2e-16\n"
      ]
     },
     "metadata": {},
     "output_type": "display_data"
    }
   ],
   "source": [
    "\n",
    "\n",
    "## Con esta transformación, logramos subir la r-cuadrada a 0.7882.\n",
    "\n",
    "# Primera transformación: Raíz de Temperatura (Para la heterocedasticidad)\n",
    "Trans.Temp <- function(Temperature) { return (sqrt(Temperature - min(Temperature))) }\n",
    "reg <- lm(Trans.Temp(Temperature) ~ Ts + Depth + Latitude + Longitude + Month, data = dfT)\n",
    "summary(reg)"
   ]
  },
  {
   "cell_type": "code",
   "execution_count": 408,
   "metadata": {},
   "outputs": [
    {
     "data": {
      "text/html": [
       "<dl class=dl-horizontal>\n",
       "\t<dt>Ts</dt>\n",
       "\t\t<dd>1.02077305375335</dd>\n",
       "\t<dt>Depth</dt>\n",
       "\t\t<dd>1.1262368995906</dd>\n",
       "\t<dt>Latitude</dt>\n",
       "\t\t<dd>1.03144079250218</dd>\n",
       "\t<dt>Longitude</dt>\n",
       "\t\t<dd>1.11653069608769</dd>\n",
       "\t<dt>Month</dt>\n",
       "\t\t<dd>1.00786436055591</dd>\n",
       "</dl>\n"
      ],
      "text/latex": [
       "\\begin{description*}\n",
       "\\item[Ts] 1.02077305375335\n",
       "\\item[Depth] 1.1262368995906\n",
       "\\item[Latitude] 1.03144079250218\n",
       "\\item[Longitude] 1.11653069608769\n",
       "\\item[Month] 1.00786436055591\n",
       "\\end{description*}\n"
      ],
      "text/markdown": [
       "Ts\n",
       ":   1.02077305375335Depth\n",
       ":   1.1262368995906Latitude\n",
       ":   1.03144079250218Longitude\n",
       ":   1.11653069608769Month\n",
       ":   1.00786436055591\n",
       "\n"
      ],
      "text/plain": [
       "       Ts     Depth  Latitude Longitude     Month \n",
       " 1.020773  1.126237  1.031441  1.116531  1.007864 "
      ]
     },
     "metadata": {},
     "output_type": "display_data"
    }
   ],
   "source": [
    "vif(reg)"
   ]
  },
  {
   "cell_type": "markdown",
   "metadata": {},
   "source": [
    "### Falta hacer para las demás variables y describir lo que se ve en las gráficas."
   ]
  },
  {
   "cell_type": "code",
   "execution_count": 315,
   "metadata": {},
   "outputs": [
    {
     "data": {
      "image/png": "[encoded data removed]",
      "text/plain": [
       "plot without title"
      ]
     },
     "metadata": {},
     "output_type": "display_data"
    }
   ],
   "source": [
    "pairs(dfT)"
   ]
  },
  {
   "cell_type": "markdown",
   "metadata": {},
   "source": [
    "### Se visualizan los cast respecto a las temperaturas tomadas en ese mismo registro"
   ]
  },
  {
   "cell_type": "markdown",
   "metadata": {},
   "source": [
    "### Modelado estadístico \n",
    "\n",
    "Se aplica la regresión lineal múltiple sin transformaciones a las variables predictoras:"
   ]
  },
  {
   "cell_type": "code",
   "execution_count": 296,
   "metadata": {},
   "outputs": [
    {
     "data": {
      "text/plain": [
       "\n",
       "Call:\n",
       "lm(formula = Temperature ~ Ts + Depth + Latitude + Longitude + \n",
       "    Month, data = dfT)\n",
       "\n",
       "Residuals:\n",
       "    Min      1Q  Median      3Q     Max \n",
       "-9.8985 -2.7628 -0.7294  2.3352 24.0693 \n",
       "\n",
       "Coefficients:\n",
       "              Estimate Std. Error t value Pr(>|t|)    \n",
       "(Intercept)  2.029e+02  3.141e+00   64.60   <2e-16 ***\n",
       "Ts           1.309e-01  2.952e-03   44.36   <2e-16 ***\n",
       "Depth       -2.179e-02  4.184e-05 -520.86   <2e-16 ***\n",
       "Latitude    -1.050e+00  8.401e-03 -125.02   <2e-16 ***\n",
       "Longitude    1.836e+00  3.601e-02   51.00   <2e-16 ***\n",
       "Month       -8.754e-02  3.518e-03  -24.89   <2e-16 ***\n",
       "---\n",
       "Signif. codes:  0 '***' 0.001 '**' 0.01 '*' 0.05 '.' 0.1 ' ' 1\n",
       "\n",
       "Residual standard error: 3.762 on 108458 degrees of freedom\n",
       "Multiple R-squared:  0.7404,\tAdjusted R-squared:  0.7404 \n",
       "F-statistic: 6.187e+04 on 5 and 108458 DF,  p-value: < 2.2e-16\n"
      ]
     },
     "metadata": {},
     "output_type": "display_data"
    }
   ],
   "source": [
    "reg1 <- lm(Temperature ~ Ts + Depth + Latitude + Longitude  + Month , data = dfT)\n",
    "summary(reg1)\n",
    "\n",
    "plot(reg1$Coefficients)"
   ]
  },
  {
   "cell_type": "code",
   "execution_count": 346,
   "metadata": {},
   "outputs": [
    {
     "data": {
      "text/plain": [
       "\n",
       "Call:\n",
       "lm(formula = Temperature ~ Ts + Depth + Latitude + Longitude + \n",
       "    Month, data = dfT)\n",
       "\n",
       "Residuals:\n",
       "    Min      1Q  Median      3Q     Max \n",
       "-8.5790 -2.1466 -0.1585  2.1338 15.1392 \n",
       "\n",
       "Coefficients:\n",
       "              Estimate Std. Error t value Pr(>|t|)    \n",
       "(Intercept)  2.341e+02  2.434e+00   96.17   <2e-16 ***\n",
       "Ts           5.521e-02  2.306e-03   23.94   <2e-16 ***\n",
       "Depth       -2.839e-02  4.031e-05 -704.31   <2e-16 ***\n",
       "Latitude    -7.049e-01  6.795e-03 -103.75   <2e-16 ***\n",
       "Longitude    2.250e+00  2.791e-02   80.63   <2e-16 ***\n",
       "Month       -2.837e-02  2.731e-03  -10.39   <2e-16 ***\n",
       "---\n",
       "Signif. codes:  0 '***' 0.001 '**' 0.01 '*' 0.05 '.' 0.1 ' ' 1\n",
       "\n",
       "Residual standard error: 2.895 on 105399 degrees of freedom\n",
       "Multiple R-squared:  0.8397,\tAdjusted R-squared:  0.8397 \n",
       "F-statistic: 1.105e+05 on 5 and 105399 DF,  p-value: < 2.2e-16\n"
      ]
     },
     "metadata": {},
     "output_type": "display_data"
    },
    {
     "data": {
      "image/png": "[encoded data removed]",
      "text/plain": [
       "Plot with title \"\""
      ]
     },
     "metadata": {},
     "output_type": "display_data"
    },
    {
     "data": {
      "image/png": "[encoded data removed]",
      "text/plain": [
       "Plot with title \"\""
      ]
     },
     "metadata": {},
     "output_type": "display_data"
    },
    {
     "data": {
      "image/png": "[encoded data removed]",
      "text/plain": [
       "Plot with title \"\""
      ]
     },
     "metadata": {},
     "output_type": "display_data"
    },
    {
     "data": {
      "image/png": "[encoded data removed]",
      "text/plain": [
       "Plot with title \"\""
      ]
     },
     "metadata": {},
     "output_type": "display_data"
    }
   ],
   "source": [
    "reg1 <- lm(Temperature ~ Ts + Depth + Latitude + Longitude  + Month , data = dfT)\n",
    "summary(reg1)\n",
    "\n",
    "plot(reg1)"
   ]
  },
  {
   "cell_type": "code",
   "execution_count": 350,
   "metadata": {},
   "outputs": [
    {
     "data": {
      "text/plain": [
       "\n",
       "Call:\n",
       "lm(formula = Temperature ~ Ts + Depth + Longitude * Latitude + \n",
       "    Month, data = dfT)\n",
       "\n",
       "Residuals:\n",
       "    Min      1Q  Median      3Q     Max \n",
       "-8.9572 -2.0645 -0.1142  2.0502 15.0784 \n",
       "\n",
       "Coefficients:\n",
       "                     Estimate Std. Error  t value Pr(>|t|)    \n",
       "(Intercept)        -1.423e+03  3.200e+01  -44.452   <2e-16 ***\n",
       "Ts                  5.861e-02  2.278e-03   25.729   <2e-16 ***\n",
       "Depth              -2.836e-02  3.981e-05 -712.344   <2e-16 ***\n",
       "Longitude          -1.688e+01  3.695e-01  -45.679   <2e-16 ***\n",
       "Latitude            7.551e+01  1.468e+00   51.433   <2e-16 ***\n",
       "Month              -6.598e-03  2.729e-03   -2.418   0.0156 *  \n",
       "Longitude:Latitude  8.802e-01  1.696e-02   51.914   <2e-16 ***\n",
       "---\n",
       "Signif. codes:  0 '***' 0.001 '**' 0.01 '*' 0.05 '.' 0.1 ' ' 1\n",
       "\n",
       "Residual standard error: 2.859 on 105398 degrees of freedom\n",
       "Multiple R-squared:  0.8437,\tAdjusted R-squared:  0.8437 \n",
       "F-statistic: 9.485e+04 on 6 and 105398 DF,  p-value: < 2.2e-16\n"
      ]
     },
     "metadata": {},
     "output_type": "display_data"
    },
    {
     "data": {
      "image/png": "[encoded data removed]",
      "text/plain": [
       "Plot with title \"\""
      ]
     },
     "metadata": {},
     "output_type": "display_data"
    },
    {
     "data": {
      "image/png": "[encoded data removed]",
      "text/plain": [
       "Plot with title \"\""
      ]
     },
     "metadata": {},
     "output_type": "display_data"
    },
    {
     "data": {
      "image/png": "[encoded data removed]",
      "text/plain": [
       "Plot with title \"\""
      ]
     },
     "metadata": {},
     "output_type": "display_data"
    },
    {
     "data": {
      "image/png": "[encoded data removed]",
      "text/plain": [
       "Plot with title \"\""
      ]
     },
     "metadata": {},
     "output_type": "display_data"
    }
   ],
   "source": [
    "reg1 <- lm(Temperature ~ Ts + Depth + Longitude*Latitude + Month , data = dfT)\n",
    "summary(reg1)\n",
    "\n",
    "plot(reg1)"
   ]
  },
  {
   "cell_type": "markdown",
   "metadata": {},
   "source": [
    "## Regresión lineal multiple sin modificar variables (Explicar las gráficas...)"
   ]
  },
  {
   "cell_type": "code",
   "execution_count": 412,
   "metadata": {},
   "outputs": [
    {
     "name": "stderr",
     "output_type": "stream",
     "text": [
      "Warning message in log(Temperature):\n",
      "\"Se han producido NaNs\""
     ]
    },
    {
     "data": {
      "text/plain": [
       "\n",
       "Call:\n",
       "lm(formula = log(Temperature) ~ Ts + Depth + Latitude * Longitude + \n",
       "    Month, data = dfT)\n",
       "\n",
       "Residuals:\n",
       "     Min       1Q   Median       3Q      Max \n",
       "-0.59023 -0.08603  0.00944  0.08716  0.95675 \n",
       "\n",
       "Coefficients:\n",
       "                     Estimate Std. Error  t value Pr(>|t|)    \n",
       "(Intercept)        -6.358e+01  1.621e+00  -39.226  < 2e-16 ***\n",
       "Ts                  5.704e-04  1.154e-04    4.943  7.7e-07 ***\n",
       "Depth              -1.999e-03  2.017e-06 -991.447  < 2e-16 ***\n",
       "Latitude            3.710e+00  7.436e-02   49.884  < 2e-16 ***\n",
       "Longitude          -7.816e-01  1.872e-02  -41.761  < 2e-16 ***\n",
       "Month               7.875e-05  1.382e-04    0.570    0.569    \n",
       "Latitude:Longitude  4.328e-02  8.588e-04   50.396  < 2e-16 ***\n",
       "---\n",
       "Signif. codes:  0 '***' 0.001 '**' 0.01 '*' 0.05 '.' 0.1 ' ' 1\n",
       "\n",
       "Residual standard error: 0.1448 on 105397 degrees of freedom\n",
       "  (1 observation deleted due to missingness)\n",
       "Multiple R-squared:  0.9117,\tAdjusted R-squared:  0.9117 \n",
       "F-statistic: 1.814e+05 on 6 and 105397 DF,  p-value: < 2.2e-16\n"
      ]
     },
     "metadata": {},
     "output_type": "display_data"
    },
    {
     "data": {
      "image/png": "[encoded data removed]",
      "text/plain": [
       "Plot with title \"\""
      ]
     },
     "metadata": {},
     "output_type": "display_data"
    },
    {
     "data": {
      "image/png": "[encoded data removed]",
      "text/plain": [
       "Plot with title \"\""
      ]
     },
     "metadata": {},
     "output_type": "display_data"
    },
    {
     "data": {
      "image/png": "[encoded data removed]",
      "text/plain": [
       "Plot with title \"\""
      ]
     },
     "metadata": {},
     "output_type": "display_data"
    },
    {
     "data": {
      "image/png": "[encoded data removed]",
      "text/plain": [
       "Plot with title \"\""
      ]
     },
     "metadata": {},
     "output_type": "display_data"
    }
   ],
   "source": [
    "reg <- lm(log(Temperature) ~ Ts + Depth + Latitude*Longitude  + Month , data = dfT)\n",
    "summary(reg)\n",
    "plot(reg)"
   ]
  },
  {
   "cell_type": "code",
   "execution_count": 410,
   "metadata": {},
   "outputs": [
    {
     "data": {
      "text/html": [
       "<dl class=dl-horizontal>\n",
       "\t<dt>Ts</dt>\n",
       "\t\t<dd>1.02162107631625</dd>\n",
       "\t<dt>Depth</dt>\n",
       "\t\t<dd>1.12651288720291</dd>\n",
       "\t<dt>Latitude</dt>\n",
       "\t\t<dd>49386.2753199376</dd>\n",
       "\t<dt>Longitude</dt>\n",
       "\t\t<dd>200.709960414217</dd>\n",
       "\t<dt>Month</dt>\n",
       "\t\t<dd>1.03224033860036</dd>\n",
       "\t<dt>Latitude:Longitude</dt>\n",
       "\t\t<dd>48695.6541354556</dd>\n",
       "</dl>\n"
      ],
      "text/latex": [
       "\\begin{description*}\n",
       "\\item[Ts] 1.02162107631625\n",
       "\\item[Depth] 1.12651288720291\n",
       "\\item[Latitude] 49386.2753199376\n",
       "\\item[Longitude] 200.709960414217\n",
       "\\item[Month] 1.03224033860036\n",
       "\\item[Latitude:Longitude] 48695.6541354556\n",
       "\\end{description*}\n"
      ],
      "text/markdown": [
       "Ts\n",
       ":   1.02162107631625Depth\n",
       ":   1.12651288720291Latitude\n",
       ":   49386.2753199376Longitude\n",
       ":   200.709960414217Month\n",
       ":   1.03224033860036Latitude:Longitude\n",
       ":   48695.6541354556\n",
       "\n"
      ],
      "text/plain": [
       "                Ts              Depth           Latitude          Longitude \n",
       "          1.021621           1.126513       49386.275320         200.709960 \n",
       "             Month Latitude:Longitude \n",
       "          1.032240       48695.654135 "
      ]
     },
     "metadata": {},
     "output_type": "display_data"
    }
   ],
   "source": [
    "vif(reg)"
   ]
  },
  {
   "cell_type": "code",
   "execution_count": null,
   "metadata": {},
   "outputs": [],
   "source": []
  },
  {
   "cell_type": "markdown",
   "metadata": {},
   "source": [
    "# Sugerencias\n",
    "\n",
    "* Considera explorar transformaciones polinomiales para la profundidad (variable $Depth$)\n",
    "* Los polinomios de profundidad pueden depender de la latitud o de la longitud, por lo tanto, es recomendable que el modelo tenga términos de interacción entre las coordenadas geográficas y la profundidad.\n",
    "* Determina la complejidad del modelo mediante validación cruzada (k-fold cross validation)\n",
    "* Para la validación, puedes utilizar librerías especializadas de R: https://quantdev.ssri.psu.edu/tutorials/cross-validation-tutorial"
   ]
  },
  {
   "cell_type": "markdown",
   "metadata": {},
   "source": [
    "base de datos con las variables de interés para el estudio, algunas de ellas fueron: 1) La temperatura que registró el dispositivo expresada en grados Celsius 2) La profundidad a la cual se tomó la medición expresada en metros, 3) La latitud y la longitud expresadas en el sistema de coordenadas geográficas WGS84, 4) La fecha de la medición (día, mes y año), 5) Tipo de instrumento de medición y  6) El promedio mensual de la temperatura superficial."
   ]
  },
  {
   "cell_type": "code",
   "execution_count": null,
   "metadata": {},
   "outputs": [],
   "source": []
  }
 ],
 "metadata": {
  "kernelspec": {
   "display_name": "R",
   "language": "R",
   "name": "ir"
  },
  "language_info": {
   "codemirror_mode": "r",
   "file_extension": ".r",
   "mimetype": "text/x-r-source",
   "name": "R",
   "pygments_lexer": "r",
   "version": "3.6.1"
  }
 },
 "nbformat": 4,
 "nbformat_minor": 2
}
