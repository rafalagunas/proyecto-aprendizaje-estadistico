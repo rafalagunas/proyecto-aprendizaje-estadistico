{
 "cells": [
  {
   "cell_type": "code",
   "execution_count": 161,
   "metadata": {},
   "outputs": [],
   "source": [
    "library(\"gvlma\")\n",
    "library(\"dplyr\")\n",
    "library(\"ggplot2\")\n",
    "library(\"tidyverse\")\n",
    "library(\"glmnet\")\n",
    "library(\"data.table\")\n",
    "library(\"repr\")\n",
    "library(\"viridis\")\n",
    "library(\"corrplot\")"
   ]
  },
  {
   "cell_type": "code",
   "execution_count": 162,
   "metadata": {},
   "outputs": [
    {
     "name": "stdout",
     "output_type": "stream",
     "text": [
      "'data.frame':\t108464 obs. of  15 variables:\n",
      " $ X          : int  1 2 3 4 5 6 7 8 9 10 ...\n",
      " $ Depth      : num  0 5 10 15 20 25 30 35 40 45 ...\n",
      " $ Temperature: num  29.1 29.1 29.1 29.1 29.1 28.9 28.7 28.6 28.5 28.4 ...\n",
      " $ Cast       : int  3678873 3678873 3678873 3678873 3678873 3678873 3678873 3678873 3678873 3678873 ...\n",
      " $ Cruise     : Factor w/ 180 levels \"99-0           \",..: 29 29 29 29 29 29 29 29 29 29 ...\n",
      " $ Latitude   : num  19.9 19.9 19.9 19.9 19.9 ...\n",
      " $ Longitude  : num  -86.8 -86.8 -86.8 -86.8 -86.8 ...\n",
      " $ Day        : int  15 15 15 15 15 15 15 15 15 15 ...\n",
      " $ Month      : int  9 9 9 9 9 9 9 9 9 9 ...\n",
      " $ Year       : int  1981 1981 1981 1981 1981 1981 1981 1981 1981 1981 ...\n",
      " $ Institute  : int  NA NA NA NA NA NA NA NA NA NA ...\n",
      " $ Instrument : int  NA NA NA NA NA NA NA NA NA NA ...\n",
      " $ Device     : Factor w/ 5 levels \"CTD\",\"MBT\",\"OSD\",..: 5 5 5 5 5 5 5 5 5 5 ...\n",
      " $ Sospechoso : int  NA NA NA NA NA NA NA NA NA NA ...\n",
      " $ Ts         : num  15.2 15.2 15.2 15.2 15.2 ...\n"
     ]
    }
   ],
   "source": [
    "df <- read.csv(\"datos_temprt.csv\")\n",
    "str(df)"
   ]
  },
  {
   "cell_type": "code",
   "execution_count": 230,
   "metadata": {},
   "outputs": [
    {
     "name": "stdout",
     "output_type": "stream",
     "text": [
      "Classes 'data.table' and 'data.frame':\t108464 obs. of  7 variables:\n",
      " $ Temperature: num  29.1 29.1 29.1 29.1 29.1 28.9 28.7 28.6 28.5 28.4 ...\n",
      " $ Ts         : num  15.2 15.2 15.2 15.2 15.2 ...\n",
      " $ Depth      : num  0 5 10 15 20 25 30 35 40 45 ...\n",
      " $ Latitude   : num  19.9 19.9 19.9 19.9 19.9 ...\n",
      " $ Longitude  : num  -86.8 -86.8 -86.8 -86.8 -86.8 ...\n",
      " $ Month      : int  9 9 9 9 9 9 9 9 9 9 ...\n",
      " $ Cast       : int  3678873 3678873 3678873 3678873 3678873 3678873 3678873 3678873 3678873 3678873 ...\n",
      " - attr(*, \".internal.selfref\")=<externalptr> \n"
     ]
    },
    {
     "data": {
      "text/plain": [
       "  Temperature          Ts             Depth           Latitude    \n",
       " Min.   :-2.24   Min.   : 9.176   Min.   :   0.0   Min.   :18.20  \n",
       " 1st Qu.: 9.24   1st Qu.:19.063   1st Qu.: 118.4   1st Qu.:21.01  \n",
       " Median :14.68   Median :20.375   Median : 290.3   Median :22.18  \n",
       " Mean   :15.79   Mean   :21.389   Mean   : 351.0   Mean   :21.88  \n",
       " 3rd Qu.:22.32   3rd Qu.:23.615   3rd Qu.: 508.0   3rd Qu.:23.07  \n",
       " Max.   :31.50   Max.   :30.162   Max.   :1990.8   Max.   :23.55  \n",
       "   Longitude          Month             Cast         \n",
       " Min.   :-87.55   Min.   : 1.000   Min.   : 2702452  \n",
       " 1st Qu.:-86.62   1st Qu.: 5.000   1st Qu.: 3078053  \n",
       " Median :-86.35   Median : 7.000   Median : 7332785  \n",
       " Mean   :-86.39   Mean   : 7.362   Mean   : 8233858  \n",
       " 3rd Qu.:-86.11   3rd Qu.:11.000   3rd Qu.:10302115  \n",
       " Max.   :-85.88   Max.   :12.000   Max.   :18900411  "
      ]
     },
     "metadata": {},
     "output_type": "display_data"
    }
   ],
   "source": [
    "dfT <- fread(\"datos_temprt.csv\", select = c(\"Temperature\", \"Ts\", \"Depth\", \"Latitude\", \"Longitude\", \"Month\",  \"Cast\"))\n",
    "str(dfT)\n",
    "summary(dfT)"
   ]
  },
  {
   "cell_type": "code",
   "execution_count": null,
   "metadata": {},
   "outputs": [],
   "source": []
  },
  {
   "cell_type": "code",
   "execution_count": 176,
   "metadata": {},
   "outputs": [],
   "source": [
    "#Matriz de correlación  \n",
    "dfcorr <-cor(dfT)"
   ]
  },
  {
   "cell_type": "code",
   "execution_count": 179,
   "metadata": {},
   "outputs": [
    {
     "data": {
      "image/png": "[encoded data removed]",
      "text/plain": [
       "Plot with title \"\""
      ]
     },
     "metadata": {},
     "output_type": "display_data"
    },
    {
     "data": {
      "image/png": "[encoded data removed]",
      "text/plain": [
       "Plot with title \"\""
      ]
     },
     "metadata": {},
     "output_type": "display_data"
    }
   ],
   "source": [
    "#Grafica de correlación\n",
    "corrplot(dfcorr, method=\"circle\")\n",
    "corrplot(dfcorr, method=\"number\")"
   ]
  },
  {
   "cell_type": "code",
   "execution_count": 237,
   "metadata": {},
   "outputs": [
    {
     "data": {
      "text/plain": [
       "   Min. 1st Qu.  Median    Mean 3rd Qu.    Max. \n",
       "  -2.24    9.24   14.68   15.79   22.32   31.50 "
      ]
     },
     "metadata": {},
     "output_type": "display_data"
    }
   ],
   "source": [
    "summary(dfT$Temperature)"
   ]
  },
  {
   "cell_type": "code",
   "execution_count": 250,
   "metadata": {},
   "outputs": [
    {
     "data": {
      "text/html": [
       "1168"
      ],
      "text/latex": [
       "1168"
      ],
      "text/markdown": [
       "1168"
      ],
      "text/plain": [
       "[1] 1168"
      ]
     },
     "metadata": {},
     "output_type": "display_data"
    }
   ],
   "source": [
    "cast<- length(unique(df$Cast))\n",
    "#tamcast <- length(cast)\n",
    "cast"
   ]
  },
  {
   "cell_type": "code",
   "execution_count": null,
   "metadata": {},
   "outputs": [],
   "source": []
  },
  {
   "cell_type": "code",
   "execution_count": 233,
   "metadata": {},
   "outputs": [
    {
     "data": {
      "image/png": "[encoded data removed]",
      "text/plain": [
       "plot without title"
      ]
     },
     "metadata": {},
     "output_type": "display_data"
    }
   ],
   "source": [
    "ggplot(data = dfT) +\n",
    "  geom_histogram(mapping = aes(x = Temperature), binwidth = 2) + theme_dark()"
   ]
  },
  {
   "cell_type": "code",
   "execution_count": 240,
   "metadata": {},
   "outputs": [
    {
     "data": {
      "image/png": "[encoded data removed]",
      "text/plain": [
       "plot without title"
      ]
     },
     "metadata": {},
     "output_type": "display_data"
    }
   ],
   "source": [
    "vp <- ggplot( dfT, aes(group = TRUE, x = \"\", y = Temperature)) + \n",
    "    geom_violin(trim = FALSE)+\n",
    "    geom_boxplot( width = 0.2, fill = \"grey\")+ theme_dark()\n",
    "vp"
   ]
  },
  {
   "cell_type": "code",
   "execution_count": null,
   "metadata": {},
   "outputs": [],
   "source": []
  },
  {
   "cell_type": "markdown",
   "metadata": {},
   "source": [
    "### Temperatura Superficial"
   ]
  },
  {
   "cell_type": "code",
   "execution_count": 165,
   "metadata": {},
   "outputs": [
    {
     "data": {
      "text/plain": [
       "   Min. 1st Qu.  Median    Mean 3rd Qu.    Max. \n",
       "  9.176  19.063  20.375  21.389  23.615  30.162 "
      ]
     },
     "metadata": {},
     "output_type": "display_data"
    },
    {
     "data": {
      "text/html": [
       "<ol class=list-inline>\n",
       "\t<li>'Correlación entre variable de respuesta'</li>\n",
       "\t<li>'-0.155521304456749'</li>\n",
       "</ol>\n"
      ],
      "text/latex": [
       "\\begin{enumerate*}\n",
       "\\item 'Correlación entre variable de respuesta'\n",
       "\\item '-0.155521304456749'\n",
       "\\end{enumerate*}\n"
      ],
      "text/markdown": [
       "1. 'Correlación entre variable de respuesta'\n",
       "2. '-0.155521304456749'\n",
       "\n",
       "\n"
      ],
      "text/plain": [
       "[1] \"Correlación entre variable de respuesta\"\n",
       "[2] \"-0.155521304456749\"                     "
      ]
     },
     "metadata": {},
     "output_type": "display_data"
    }
   ],
   "source": [
    "summary(dfT$Ts)\n",
    "c(\"Correlación entre variable de respuesta\", cor(dfT$Temperature, dfT$Ts))"
   ]
  },
  {
   "cell_type": "code",
   "execution_count": null,
   "metadata": {},
   "outputs": [],
   "source": []
  },
  {
   "cell_type": "code",
   "execution_count": 166,
   "metadata": {},
   "outputs": [
    {
     "data": {
      "image/png": "[encoded data removed]",
      "text/plain": [
       "plot without title"
      ]
     },
     "metadata": {},
     "output_type": "display_data"
    }
   ],
   "source": [
    "options(repr.plot.width= 3, repr.plot.height= 3, repr.plot.res = 100)\n",
    "ggplot(data = dfT) +\n",
    "  geom_histogram(mapping = aes(x = Ts), binwidth = 1) + theme_dark()"
   ]
  },
  {
   "cell_type": "code",
   "execution_count": 244,
   "metadata": {},
   "outputs": [
    {
     "data": {
      "image/png": "[encoded data removed]",
      "text/plain": [
       "plot without title"
      ]
     },
     "metadata": {},
     "output_type": "display_data"
    }
   ],
   "source": [
    "vp <- ggplot( dfT, aes(group = TRUE, x = \"Temperature\", y = Ts)) + \n",
    "    geom_violin(trim = FALSE)+\n",
    "    geom_boxplot( width = 0.2, fill = \"grey\")+ theme_dark()\n",
    "vp"
   ]
  },
  {
   "cell_type": "code",
   "execution_count": 168,
   "metadata": {},
   "outputs": [
    {
     "name": "stderr",
     "output_type": "stream",
     "text": [
      "`geom_smooth()` using method = 'gam' and formula 'y ~ s(x, bs = \"cs\")'\n"
     ]
    },
    {
     "data": {
      "image/png": "[encoded data removed]",
      "text/plain": [
       "plot without title"
      ]
     },
     "metadata": {},
     "output_type": "display_data"
    }
   ],
   "source": [
    "ggplot(data = dfT, mapping = aes(Ts, Temperature)) + geom_point() + geom_smooth() + theme_bw()"
   ]
  },
  {
   "cell_type": "markdown",
   "metadata": {},
   "source": [
    "### Variable predictora Depth"
   ]
  },
  {
   "cell_type": "code",
   "execution_count": 185,
   "metadata": {},
   "outputs": [
    {
     "name": "stdout",
     "output_type": "stream",
     "text": [
      "Resumen estadístico de variable predictora"
     ]
    },
    {
     "data": {
      "text/plain": [
       "   Min. 1st Qu.  Median    Mean 3rd Qu.    Max. \n",
       "    0.0   118.4   290.3   351.0   508.0  1990.8 "
      ]
     },
     "metadata": {},
     "output_type": "display_data"
    },
    {
     "name": "stdout",
     "output_type": "stream",
     "text": [
      "Correlación de variable predictora Depth con variable de respuesta"
     ]
    },
    {
     "data": {
      "text/html": [
       "-0.832131349128753"
      ],
      "text/latex": [
       "-0.832131349128753"
      ],
      "text/markdown": [
       "-0.832131349128753"
      ],
      "text/plain": [
       "[1] -0.8321313"
      ]
     },
     "metadata": {},
     "output_type": "display_data"
    }
   ],
   "source": [
    "cat(\"Resumen estadístico de variable predictora\")\n",
    "summary(dfT$Depth)\n",
    "cat(\"Correlación de variable predictora Depth con variable de respuesta\")\n",
    "cor(dfT$Depth, dfT$Temperature)"
   ]
  },
  {
   "cell_type": "code",
   "execution_count": 170,
   "metadata": {},
   "outputs": [
    {
     "data": {
      "image/png": "[encoded data removed]",
      "text/plain": [
       "plot without title"
      ]
     },
     "metadata": {},
     "output_type": "display_data"
    }
   ],
   "source": [
    "options(repr.plot.width= 3, repr.plot.height= 3, repr.plot.res = 100)\n",
    "ggplot(data = dfT) + geom_histogram(mapping = aes(x = Depth), binwidth = 40) + theme_dark()"
   ]
  },
  {
   "cell_type": "code",
   "execution_count": 245,
   "metadata": {},
   "outputs": [
    {
     "data": {
      "image/png": "[encoded data removed]",
      "text/plain": [
       "plot without title"
      ]
     },
     "metadata": {},
     "output_type": "display_data"
    }
   ],
   "source": [
    "vp <- ggplot( dfT, aes(group = TRUE, x = \"Temperature\", y = Depth)) + \n",
    "    geom_violin(trim = FALSE)+\n",
    "    geom_boxplot( width = 0.2, fill = \"grey\")+ theme_dark()\n",
    "vp"
   ]
  },
  {
   "cell_type": "code",
   "execution_count": 172,
   "metadata": {},
   "outputs": [
    {
     "name": "stderr",
     "output_type": "stream",
     "text": [
      "`geom_smooth()` using method = 'gam' and formula 'y ~ s(x, bs = \"cs\")'\n"
     ]
    },
    {
     "data": {
      "image/png": "[encoded data removed]",
      "text/plain": [
       "plot without title"
      ]
     },
     "metadata": {},
     "output_type": "display_data"
    }
   ],
   "source": [
    "ggplot(data = dfT, mapping = aes(Depth, Temperature)) + geom_point() + geom_smooth() + theme_bw()"
   ]
  },
  {
   "cell_type": "markdown",
   "metadata": {},
   "source": [
    "### Variable predictora Latitude"
   ]
  },
  {
   "cell_type": "code",
   "execution_count": 188,
   "metadata": {},
   "outputs": [
    {
     "name": "stdout",
     "output_type": "stream",
     "text": [
      "Resumen estadístico de variable predictora"
     ]
    },
    {
     "data": {
      "text/plain": [
       "   Min. 1st Qu.  Median    Mean 3rd Qu.    Max. \n",
       "  18.20   21.01   22.18   21.88   23.07   23.55 "
      ]
     },
     "metadata": {},
     "output_type": "display_data"
    },
    {
     "name": "stdout",
     "output_type": "stream",
     "text": [
      "Correlación de variable predictora Latitude con variable de respuesta"
     ]
    },
    {
     "data": {
      "text/html": [
       "-0.163093404381766"
      ],
      "text/latex": [
       "-0.163093404381766"
      ],
      "text/markdown": [
       "-0.163093404381766"
      ],
      "text/plain": [
       "[1] -0.1630934"
      ]
     },
     "metadata": {},
     "output_type": "display_data"
    }
   ],
   "source": [
    "cat(\"Resumen estadístico de variable predictora\")\n",
    "summary(dfT$Latitude)\n",
    "cat(\"Correlación de variable predictora Latitude con variable de respuesta\")\n",
    "cor(dfT$Latitude, dfT$Temperature)"
   ]
  },
  {
   "cell_type": "code",
   "execution_count": 193,
   "metadata": {},
   "outputs": [
    {
     "data": {
      "image/png": "[encoded data removed]",
      "text/plain": [
       "plot without title"
      ]
     },
     "metadata": {},
     "output_type": "display_data"
    }
   ],
   "source": [
    "ggplot(data = dfT) + geom_histogram(mapping = aes(x = Latitude), binwidth = 0.25) + theme_dark()"
   ]
  },
  {
   "cell_type": "code",
   "execution_count": 246,
   "metadata": {},
   "outputs": [
    {
     "data": {
      "image/png": "[encoded data removed]",
      "text/plain": [
       "plot without title"
      ]
     },
     "metadata": {},
     "output_type": "display_data"
    }
   ],
   "source": [
    "vp <- ggplot( dfT, aes(group = TRUE, x = \"Temperature\", y = Latitude)) + \n",
    "    geom_violin(trim = FALSE)+\n",
    "    geom_boxplot( width = 0.2, fill = \"grey\")+ theme_dark()\n",
    "vp"
   ]
  },
  {
   "cell_type": "code",
   "execution_count": 175,
   "metadata": {},
   "outputs": [
    {
     "name": "stderr",
     "output_type": "stream",
     "text": [
      "`geom_smooth()` using method = 'gam' and formula 'y ~ s(x, bs = \"cs\")'\n"
     ]
    },
    {
     "data": {
      "image/png": "[encoded data removed]",
      "text/plain": [
       "plot without title"
      ]
     },
     "metadata": {},
     "output_type": "display_data"
    }
   ],
   "source": [
    "ggplot(data = dfT, mapping = aes(Latitude, Temperature)) + geom_point() + geom_smooth() + theme_bw()"
   ]
  },
  {
   "cell_type": "markdown",
   "metadata": {},
   "source": [
    "### Variable predictora Longitude"
   ]
  },
  {
   "cell_type": "markdown",
   "metadata": {},
   "source": [
    "La primera variable es la longitud. Esta variable tiene una correlación muy baja respecto a la temperatura. Además, la distribución de la variable se encuentra sesgada. El boxplot nos permite visualizar que la variable contiene datos atípicos.\n"
   ]
  },
  {
   "cell_type": "code",
   "execution_count": 195,
   "metadata": {},
   "outputs": [
    {
     "name": "stdout",
     "output_type": "stream",
     "text": [
      "Resumen estadístico de variable predictora"
     ]
    },
    {
     "data": {
      "text/plain": [
       "   Min. 1st Qu.  Median    Mean 3rd Qu.    Max. \n",
       " -87.55  -86.62  -86.35  -86.39  -86.11  -85.88 "
      ]
     },
     "metadata": {},
     "output_type": "display_data"
    },
    {
     "name": "stdout",
     "output_type": "stream",
     "text": [
      "Correlación de variable predictora Longitud con variable de respuesta"
     ]
    },
    {
     "data": {
      "text/html": [
       "-0.221846884637988"
      ],
      "text/latex": [
       "-0.221846884637988"
      ],
      "text/markdown": [
       "-0.221846884637988"
      ],
      "text/plain": [
       "[1] -0.2218469"
      ]
     },
     "metadata": {},
     "output_type": "display_data"
    }
   ],
   "source": [
    "cat(\"Resumen estadístico de variable predictora\")\n",
    "summary(dfT$Longitude)\n",
    "cat(\"Correlación de variable predictora Longitud con variable de respuesta\")\n",
    "cor(dfT$Longitude, dfT$Temperature)"
   ]
  },
  {
   "cell_type": "code",
   "execution_count": 202,
   "metadata": {},
   "outputs": [
    {
     "data": {
      "image/png": "[encoded data removed]",
      "text/plain": [
       "plot without title"
      ]
     },
     "metadata": {},
     "output_type": "display_data"
    }
   ],
   "source": [
    "ggplot(data = dfT) + geom_histogram(mapping = aes(x = Longitude), binwidth = 0.25) + theme_dark()"
   ]
  },
  {
   "cell_type": "code",
   "execution_count": 247,
   "metadata": {},
   "outputs": [
    {
     "data": {
      "image/png": "[encoded data removed]",
      "text/plain": [
       "plot without title"
      ]
     },
     "metadata": {},
     "output_type": "display_data"
    }
   ],
   "source": [
    "vp <- ggplot( dfT, aes(group = TRUE, x = \"Temperature\", y = Longitude)) + \n",
    "    geom_violin(trim = FALSE)+\n",
    "    geom_boxplot( width = 0.2, fill = \"grey\")+ theme_dark()\n",
    "vp"
   ]
  },
  {
   "cell_type": "code",
   "execution_count": 198,
   "metadata": {},
   "outputs": [
    {
     "name": "stderr",
     "output_type": "stream",
     "text": [
      "`geom_smooth()` using method = 'gam' and formula 'y ~ s(x, bs = \"cs\")'\n"
     ]
    },
    {
     "data": {
      "image/png": "[encoded data removed]",
      "text/plain": [
       "plot without title"
      ]
     },
     "metadata": {},
     "output_type": "display_data"
    }
   ],
   "source": [
    "ggplot(data = dfT, mapping = aes(Depth, Temperature)) + geom_point() + geom_smooth() + theme_bw()"
   ]
  },
  {
   "cell_type": "markdown",
   "metadata": {},
   "source": [
    "### Variable predictora Month"
   ]
  },
  {
   "cell_type": "code",
   "execution_count": 203,
   "metadata": {},
   "outputs": [
    {
     "name": "stdout",
     "output_type": "stream",
     "text": [
      "Resumen estadístico de variable predictora"
     ]
    },
    {
     "data": {
      "text/plain": [
       "   Min. 1st Qu.  Median    Mean 3rd Qu.    Max. \n",
       " -87.55  -86.62  -86.35  -86.39  -86.11  -85.88 "
      ]
     },
     "metadata": {},
     "output_type": "display_data"
    },
    {
     "name": "stdout",
     "output_type": "stream",
     "text": [
      "Correlación de variable predictora Month con variable de respuesta"
     ]
    },
    {
     "data": {
      "text/html": [
       "-0.00333840749851117"
      ],
      "text/latex": [
       "-0.00333840749851117"
      ],
      "text/markdown": [
       "-0.00333840749851117"
      ],
      "text/plain": [
       "[1] -0.003338407"
      ]
     },
     "metadata": {},
     "output_type": "display_data"
    }
   ],
   "source": [
    "cat(\"Resumen estadístico de variable predictora\")\n",
    "summary(dfT$Longitude)\n",
    "cat(\"Correlación de variable predictora Month con variable de respuesta\")\n",
    "cor(dfT$Month, dfT$Temperature)"
   ]
  },
  {
   "cell_type": "code",
   "execution_count": 213,
   "metadata": {},
   "outputs": [
    {
     "data": {
      "image/png": "[encoded data removed]",
      "text/plain": [
       "plot without title"
      ]
     },
     "metadata": {},
     "output_type": "display_data"
    }
   ],
   "source": [
    "ggplot(data = dfT) + geom_histogram(mapping = aes(x = Month), binwidth = 1) + theme_dark()"
   ]
  },
  {
   "cell_type": "code",
   "execution_count": 248,
   "metadata": {},
   "outputs": [
    {
     "data": {
      "image/png": "[encoded data removed]",
      "text/plain": [
       "plot without title"
      ]
     },
     "metadata": {},
     "output_type": "display_data"
    }
   ],
   "source": [
    "vp <- ggplot( dfT, aes(group = TRUE, x = \"Temperature\", y = Month)) + \n",
    "    geom_violin(trim = FALSE)+\n",
    "    geom_boxplot( width = 0.2, fill = \"grey\")+ theme_dark()\n",
    "vp"
   ]
  },
  {
   "cell_type": "code",
   "execution_count": 215,
   "metadata": {},
   "outputs": [
    {
     "name": "stderr",
     "output_type": "stream",
     "text": [
      "`geom_smooth()` using method = 'gam' and formula 'y ~ s(x, bs = \"cs\")'\n"
     ]
    },
    {
     "data": {
      "image/png": "[encoded data removed]",
      "text/plain": [
       "plot without title"
      ]
     },
     "metadata": {},
     "output_type": "display_data"
    }
   ],
   "source": [
    "ggplot(data = dfT, mapping = aes(Month, Temperature)) + geom_point() + geom_smooth() + theme_bw()"
   ]
  },
  {
   "cell_type": "markdown",
   "metadata": {},
   "source": [
    "#### Separamos muestras aleatorias de los datos para poder aplicar validación cruzada"
   ]
  },
  {
   "cell_type": "code",
   "execution_count": 251,
   "metadata": {},
   "outputs": [],
   "source": [
    "casts <- dfT %>% group_by(Cast) %>% tally(sort = TRUE) %>% pull(Cast)\n"
   ]
  },
  {
   "cell_type": "code",
   "execution_count": 252,
   "metadata": {},
   "outputs": [],
   "source": [
    "# Separación de datos de entrenamiento y de prueba para validación cruzada\n",
    "train <- casts[1:as.integer(length(casts) * 0.6)]\n",
    "test <- casts[as.integer((length(casts) * 0.6) + 1):as.integer((length(casts) * 0.8))]\n",
    "validation <- casts[as.integer((length(casts) * 0.8) + 1):length(casts)]\n",
    "\n",
    "df_train <- dfT[Cast %in% train]\n",
    "df_test <- dfT[Cast %in% test]\n",
    "df_validation <- dfT[Cast %in% validation]"
   ]
  },
  {
   "cell_type": "code",
   "execution_count": 259,
   "metadata": {},
   "outputs": [
    {
     "ename": "ERROR",
     "evalue": "Error in Trans.Z(Z): no se pudo encontrar la función \"Trans.Z\"\n",
     "output_type": "error",
     "traceback": [
      "Error in Trans.Z(Z): no se pudo encontrar la función \"Trans.Z\"\nTraceback:\n",
      "1. lm(Trans.Temp(Temperature) ~ Longitude + poly(Latitude, poli, \n .     raw = T) + Trans.Z(Z) + Longitude * Latitude + Latitude * \n .     Z + Longitude * Latitude * Z + m + ts, data = df_train)",
      "2. eval(mf, parent.frame())",
      "3. eval(mf, parent.frame())",
      "4. stats::model.frame(formula = Trans.Temp(Temperature) ~ Longitude + \n .     poly(Latitude, poli, raw = T) + Trans.Z(Z) + Longitude * \n .     Latitude + Latitude * Z + Longitude * Latitude * Z + m + \n .     ts, data = df_train, drop.unused.levels = TRUE)",
      "5. model.frame.default(formula = Trans.Temp(Temperature) ~ Longitude + \n .     poly(Latitude, poli, raw = T) + Trans.Z(Z) + Longitude * \n .     Latitude + Latitude * Z + Longitude * Latitude * Z + m + \n .     ts, data = df_train, drop.unused.levels = TRUE)",
      "6. eval(predvars, data, env)",
      "7. eval(predvars, data, env)"
     ]
    }
   ],
   "source": [
    "err_test <- c()\n",
    "deg <- c()\n",
    "for(poli in 1:10){\n",
    "\n",
    "  mlr_poli2 <- lm(Trans.Temp(Temperature) ~ Longitude + poly(Latitude, poli, raw = T)  + Trans.Z(Z) + Longitude*Latitude + Latitude*Z + Longitude*Latitude*Z + m + ts, data = df_train)\n",
    "  test_pred <- predict(mlr_poli2, df_test)\n",
    "  err <- sum(test_pred - df_test$Temperature)^2  \n",
    "  err_test <- c(err_test, err)\n",
    "  deg <- c(deg, poli)\n",
    "}\n",
    "plot(deg, err_test, type = \"l\", xlab = \"Grado\", ylab = \"Error de prueba\", main=\"Validación cruzada para el polinomio de Y\")\n",
    "c(\"Grados con menor error\", order(err_test)[1:3])\n",
    "Lat_pol <- function(Latitude) { return(poly(Latitude, 6, raw = T)) }\n",
    "mlr_poli2 <- lm(Trans.Temp(Temperature) ~ Longitude + Lat_pol(Latitude)  + Trans.Z(Z) + Longitude*Latitude + Latitude*Z + Longitude*Latitude*Z + m + ts, data = df_train)\n",
    "summary(mlr_poli2)"
   ]
  },
  {
   "cell_type": "markdown",
   "metadata": {},
   "source": [
    "La primera transformación se aplica sobre la temperatura. Como el modelo presenta heterocedasticidad, entonces aplicamos la ráiz a los datos de la temperatura, restando el valor mínimo a cada observación para eliminar los datos negativos y no tener raíces imaginarias."
   ]
  },
  {
   "cell_type": "code",
   "execution_count": 229,
   "metadata": {},
   "outputs": [
    {
     "data": {
      "text/plain": [
       "\n",
       "Call:\n",
       "lm(formula = Trans.Temp(Temperature) ~ Ts + Depth + Latitude + \n",
       "    Longitude + Month, data = dfT)\n",
       "\n",
       "Residuals:\n",
       "     Min       1Q   Median       3Q      Max \n",
       "-3.14968 -0.29402 -0.05738  0.25471  2.79267 \n",
       "\n",
       "Coefficients:\n",
       "              Estimate Std. Error t value Pr(>|t|)    \n",
       "(Intercept)  2.687e+01  3.384e-01   79.39   <2e-16 ***\n",
       "Ts           1.263e-02  3.180e-04   39.70   <2e-16 ***\n",
       "Depth       -2.686e-03  4.508e-06 -595.95   <2e-16 ***\n",
       "Latitude    -1.151e-01  9.051e-04 -127.16   <2e-16 ***\n",
       "Longitude    2.252e-01  3.879e-03   58.05   <2e-16 ***\n",
       "Month       -9.340e-03  3.790e-04  -24.64   <2e-16 ***\n",
       "---\n",
       "Signif. codes:  0 '***' 0.001 '**' 0.01 '*' 0.05 '.' 0.1 ' ' 1\n",
       "\n",
       "Residual standard error: 0.4053 on 108458 degrees of freedom\n",
       "Multiple R-squared:  0.7885,\tAdjusted R-squared:  0.7884 \n",
       "F-statistic: 8.085e+04 on 5 and 108458 DF,  p-value: < 2.2e-16\n"
      ]
     },
     "metadata": {},
     "output_type": "display_data"
    }
   ],
   "source": [
    "\n",
    "\n",
    "## Con esta transformación, logramos subir la r-cuadrada a 0.7882.\n",
    "\n",
    "# Primera transformación: Raíz de Temperatura (Para la heterocedasticidad)\n",
    "Trans.Temp <- function(Temperature) { return (sqrt(Temperature - min(Temperature))) }\n",
    "reg <- lm(Trans.Temp(Temperature) ~ Ts + Depth + Latitude + Longitude + Month, data = dfT)\n",
    "summary(reg)"
   ]
  },
  {
   "cell_type": "code",
   "execution_count": 227,
   "metadata": {},
   "outputs": [
    {
     "data": {
      "text/plain": [
       "  Temperature          Ts             Depth           Latitude    \n",
       " Min.   :-2.24   Min.   : 9.176   Min.   :   0.0   Min.   :18.20  \n",
       " 1st Qu.: 9.24   1st Qu.:19.063   1st Qu.: 118.4   1st Qu.:21.01  \n",
       " Median :14.68   Median :20.375   Median : 290.3   Median :22.18  \n",
       " Mean   :15.79   Mean   :21.389   Mean   : 351.0   Mean   :21.88  \n",
       " 3rd Qu.:22.32   3rd Qu.:23.615   3rd Qu.: 508.0   3rd Qu.:23.07  \n",
       " Max.   :31.50   Max.   :30.162   Max.   :1990.8   Max.   :23.55  \n",
       "   Longitude          Month             Cast         \n",
       " Min.   :-87.55   Min.   : 1.000   Min.   : 2702452  \n",
       " 1st Qu.:-86.62   1st Qu.: 5.000   1st Qu.: 3078053  \n",
       " Median :-86.35   Median : 7.000   Median : 7332785  \n",
       " Mean   :-86.39   Mean   : 7.362   Mean   : 8233858  \n",
       " 3rd Qu.:-86.11   3rd Qu.:11.000   3rd Qu.:10302115  \n",
       " Max.   :-85.88   Max.   :12.000   Max.   :18900411  "
      ]
     },
     "metadata": {},
     "output_type": "display_data"
    }
   ],
   "source": [
    "summary(dfT)"
   ]
  },
  {
   "cell_type": "markdown",
   "metadata": {},
   "source": [
    "### Falta hacer para las demás variables y describir lo que se ve en las gráficas."
   ]
  },
  {
   "cell_type": "code",
   "execution_count": 29,
   "metadata": {},
   "outputs": [
    {
     "data": {
      "image/png": "[encoded data removed]",
      "text/plain": [
       "plot without title"
      ]
     },
     "metadata": {},
     "output_type": "display_data"
    }
   ],
   "source": [
    "pairs(dfT)"
   ]
  },
  {
   "cell_type": "markdown",
   "metadata": {},
   "source": [
    "### Se visualizan los cast respecto a las temperaturas tomadas en ese mismo registro"
   ]
  },
  {
   "cell_type": "code",
   "execution_count": 115,
   "metadata": {},
   "outputs": [
    {
     "data": {
      "text/html": [
       "<ol class=list-inline>\n",
       "\t<li>3678873</li>\n",
       "\t<li>3679613</li>\n",
       "\t<li>3679603</li>\n",
       "\t<li>3681827</li>\n",
       "\t<li>3681828</li>\n",
       "\t<li>10268672</li>\n",
       "</ol>\n"
      ],
      "text/latex": [
       "\\begin{enumerate*}\n",
       "\\item 3678873\n",
       "\\item 3679613\n",
       "\\item 3679603\n",
       "\\item 3681827\n",
       "\\item 3681828\n",
       "\\item 10268672\n",
       "\\end{enumerate*}\n"
      ],
      "text/markdown": [
       "1. 3678873\n",
       "2. 3679613\n",
       "3. 3679603\n",
       "4. 3681827\n",
       "5. 3681828\n",
       "6. 10268672\n",
       "\n",
       "\n"
      ],
      "text/plain": [
       "[1]  3678873  3679613  3679603  3681827  3681828 10268672"
      ]
     },
     "metadata": {},
     "output_type": "display_data"
    }
   ],
   "source": [
    "head(unique(dfT$Cast))"
   ]
  },
  {
   "cell_type": "code",
   "execution_count": 94,
   "metadata": {},
   "outputs": [
    {
     "data": {
      "image/png": "[encoded data removed]",
      "text/plain": [
       "plot without title"
      ]
     },
     "metadata": {},
     "output_type": "display_data"
    }
   ],
   "source": [
    "d_cast <- dfT[dfT$Cast == 3678873, c(\"Temperature\", \"Depth\")]\n",
    "plot(d_cast$Temperature, -d_cast$Depth, col=\"red\")"
   ]
  },
  {
   "cell_type": "code",
   "execution_count": 257,
   "metadata": {},
   "outputs": [
    {
     "data": {
      "image/png": "[encoded data removed]",
      "text/plain": [
       "plot without title"
      ]
     },
     "metadata": {},
     "output_type": "display_data"
    }
   ],
   "source": [
    "d_cast <- dfT[dfT$Cast == 18872763, c(\"Temperature\", \"Depth\")]\n",
    "plot(d_cast$Temperature, -d_cast$Depth, col=\"red\")"
   ]
  },
  {
   "cell_type": "code",
   "execution_count": 113,
   "metadata": {},
   "outputs": [
    {
     "name": "stdout",
     "output_type": "stream",
     "text": [
      "Classes 'data.table' and 'data.frame':\t108464 obs. of  7 variables:\n",
      " $ Temperature: num  29.1 29.1 29.1 29.1 29.1 28.9 28.7 28.6 28.5 28.4 ...\n",
      " $ Ts         : num  15.2 15.2 15.2 15.2 15.2 ...\n",
      " $ Depth      : num  0 5 10 15 20 25 30 35 40 45 ...\n",
      " $ Latitude   : num  19.9 19.9 19.9 19.9 19.9 ...\n",
      " $ Longitude  : num  -86.8 -86.8 -86.8 -86.8 -86.8 ...\n",
      " $ Month      : int  9 9 9 9 9 9 9 9 9 9 ...\n",
      " $ Cast       : int  3678873 3678873 3678873 3678873 3678873 3678873 3678873 3678873 3678873 3678873 ...\n",
      " - attr(*, \".internal.selfref\")=<externalptr> \n"
     ]
    }
   ],
   "source": [
    "str(dfT)"
   ]
  },
  {
   "cell_type": "markdown",
   "metadata": {},
   "source": [
    "### Modelado estadístico \n",
    "\n",
    "Se aplica la regresión lineal múltiple sin transformaciones a las variables predictoras:"
   ]
  },
  {
   "cell_type": "code",
   "execution_count": 114,
   "metadata": {},
   "outputs": [
    {
     "data": {
      "text/plain": [
       "\n",
       "Call:\n",
       "lm(formula = Temperature ~ Ts + Depth + Latitude + Longitude + \n",
       "    Month, data = dfT)\n",
       "\n",
       "Residuals:\n",
       "    Min      1Q  Median      3Q     Max \n",
       "-9.8985 -2.7628 -0.7294  2.3352 24.0693 \n",
       "\n",
       "Coefficients:\n",
       "              Estimate Std. Error t value Pr(>|t|)    \n",
       "(Intercept)  2.029e+02  3.141e+00   64.60   <2e-16 ***\n",
       "Ts           1.309e-01  2.952e-03   44.36   <2e-16 ***\n",
       "Depth       -2.179e-02  4.184e-05 -520.86   <2e-16 ***\n",
       "Latitude    -1.050e+00  8.401e-03 -125.02   <2e-16 ***\n",
       "Longitude    1.836e+00  3.601e-02   51.00   <2e-16 ***\n",
       "Month       -8.754e-02  3.518e-03  -24.89   <2e-16 ***\n",
       "---\n",
       "Signif. codes:  0 '***' 0.001 '**' 0.01 '*' 0.05 '.' 0.1 ' ' 1\n",
       "\n",
       "Residual standard error: 3.762 on 108458 degrees of freedom\n",
       "Multiple R-squared:  0.7404,\tAdjusted R-squared:  0.7404 \n",
       "F-statistic: 6.187e+04 on 5 and 108458 DF,  p-value: < 2.2e-16\n"
      ]
     },
     "metadata": {},
     "output_type": "display_data"
    },
    {
     "data": {
      "image/png": "[encoded data removed]",
      "text/plain": [
       "Plot with title \"\""
      ]
     },
     "metadata": {},
     "output_type": "display_data"
    },
    {
     "data": {
      "image/png": "[encoded data removed]",
      "text/plain": [
       "Plot with title \"\""
      ]
     },
     "metadata": {},
     "output_type": "display_data"
    },
    {
     "data": {
      "image/png": "[encoded data removed]",
      "text/plain": [
       "Plot with title \"\""
      ]
     },
     "metadata": {},
     "output_type": "display_data"
    },
    {
     "data": {
      "image/png": "[encoded data removed]",
      "text/plain": [
       "Plot with title \"\""
      ]
     },
     "metadata": {},
     "output_type": "display_data"
    }
   ],
   "source": [
    "reg <- lm(Temperature ~ Ts + Depth + Latitude + Longitude  + Month , data = dfT)\n",
    "summary(reg)\n",
    "plot(reg)"
   ]
  },
  {
   "cell_type": "markdown",
   "metadata": {},
   "source": [
    "## Regresión lineal multiple sin modificar variables (Explicar las gráficas...)"
   ]
  },
  {
   "cell_type": "code",
   "execution_count": 123,
   "metadata": {},
   "outputs": [
    {
     "data": {
      "text/plain": [
       "\n",
       "Call:\n",
       "lm(formula = Temperature ~ Ts + Depth + Latitude * Longitude + \n",
       "    Month, data = dfT)\n",
       "\n",
       "Residuals:\n",
       "    Min      1Q  Median      3Q     Max \n",
       "-9.8601 -2.7481 -0.7215  2.3221 23.8815 \n",
       "\n",
       "Coefficients:\n",
       "                     Estimate Std. Error  t value Pr(>|t|)    \n",
       "(Intercept)        -9.993e+01  3.929e+01   -2.543 0.010988 *  \n",
       "Ts                  1.323e-01  2.956e-03   44.756  < 2e-16 ***\n",
       "Depth              -2.175e-02  4.226e-05 -514.568  < 2e-16 ***\n",
       "Latitude            1.289e+01  1.804e+00    7.149 8.78e-13 ***\n",
       "Longitude          -1.662e+00  4.539e-01   -3.661 0.000251 ***\n",
       "Month              -8.370e-02  3.552e-03  -23.567  < 2e-16 ***\n",
       "Latitude:Longitude  1.611e-01  2.084e-02    7.732 1.07e-14 ***\n",
       "---\n",
       "Signif. codes:  0 '***' 0.001 '**' 0.01 '*' 0.05 '.' 0.1 ' ' 1\n",
       "\n",
       "Residual standard error: 3.761 on 108457 degrees of freedom\n",
       "Multiple R-squared:  0.7405,\tAdjusted R-squared:  0.7405 \n",
       "F-statistic: 5.159e+04 on 6 and 108457 DF,  p-value: < 2.2e-16\n"
      ]
     },
     "metadata": {},
     "output_type": "display_data"
    },
    {
     "data": {
      "image/png": "[encoded data removed]",
      "text/plain": [
       "Plot with title \"\""
      ]
     },
     "metadata": {},
     "output_type": "display_data"
    },
    {
     "data": {
      "image/png": "[encoded data removed]",
      "text/plain": [
       "Plot with title \"\""
      ]
     },
     "metadata": {},
     "output_type": "display_data"
    },
    {
     "data": {
      "image/png": "[encoded data removed]",
      "text/plain": [
       "Plot with title \"\""
      ]
     },
     "metadata": {},
     "output_type": "display_data"
    },
    {
     "data": {
      "image/png": "[encoded data removed]",
      "text/plain": [
       "Plot with title \"\""
      ]
     },
     "metadata": {},
     "output_type": "display_data"
    }
   ],
   "source": [
    "reg <- lm(Temperature ~ Ts + Depth + Latitude*Longitude  + Month , data = dfT)\n",
    "summary(reg)\n",
    "plot(reg)"
   ]
  },
  {
   "cell_type": "code",
   "execution_count": null,
   "metadata": {},
   "outputs": [],
   "source": []
  },
  {
   "cell_type": "code",
   "execution_count": null,
   "metadata": {},
   "outputs": [],
   "source": []
  },
  {
   "cell_type": "markdown",
   "metadata": {},
   "source": [
    "# Sugerencias\n",
    "\n",
    "* Considera explorar transformaciones polinomiales para la profundidad (variable $Depth$)\n",
    "* Los polinomios de profundidad pueden depender de la latitud o de la longitud, por lo tanto, es recomendable que el modelo tenga términos de interacción entre las coordenadas geográficas y la profundidad.\n",
    "* Determina la complejidad del modelo mediante validación cruzada (k-fold cross validation)\n",
    "* Para la validación, puedes utilizar librerías especializadas de R: https://quantdev.ssri.psu.edu/tutorials/cross-validation-tutorial"
   ]
  },
  {
   "cell_type": "markdown",
   "metadata": {},
   "source": [
    "base de datos con las variables de interés para el estudio, algunas de ellas fueron: 1) La temperatura que registró el dispositivo expresada en grados Celsius 2) La profundidad a la cual se tomó la medición expresada en metros, 3) La latitud y la longitud expresadas en el sistema de coordenadas geográficas WGS84, 4) La fecha de la medición (día, mes y año), 5) Tipo de instrumento de medición y  6) El promedio mensual de la temperatura superficial."
   ]
  },
  {
   "cell_type": "code",
   "execution_count": null,
   "metadata": {},
   "outputs": [],
   "source": []
  }
 ],
 "metadata": {
  "kernelspec": {
   "display_name": "R",
   "language": "R",
   "name": "ir"
  },
  "language_info": {
   "codemirror_mode": "r",
   "file_extension": ".r",
   "mimetype": "text/x-r-source",
   "name": "R",
   "pygments_lexer": "r",
   "version": "3.6.1"
  }
 },
 "nbformat": 4,
 "nbformat_minor": 2
}
